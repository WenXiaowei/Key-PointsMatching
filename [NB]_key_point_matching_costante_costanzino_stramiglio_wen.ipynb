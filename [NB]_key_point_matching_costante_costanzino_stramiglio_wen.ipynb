{
  "cells": [
    {
      "cell_type": "code",
      "execution_count": null,
      "metadata": {
        "colab": {
          "base_uri": "https://localhost:8080/"
        },
        "id": "oXyt3vkIw7K2",
        "outputId": "4aa6d7a0-bd87-4d7d-efa5-d40c6e961cef"
      },
      "outputs": [
        {
          "output_type": "stream",
          "name": "stdout",
          "text": [
            "Mounted at /content/drive\n"
          ]
        }
      ],
      "source": [
        "'''\n",
        "Marco Costante, Alex Costanzino, Alessandra Stramiglio, Xiaowei Wen\n",
        "MSc students in Artificial Intelligence\n",
        "@ Alma Mater Studiorum, University of Bologna\n",
        "January, 2022\n",
        "'''\n",
        "\n",
        "from google.colab import drive\n",
        "drive.mount('/content/drive')"
      ]
    },
    {
      "cell_type": "markdown",
      "metadata": {
        "id": "4847FosCyyhj"
      },
      "source": [
        "# Project work: **Key-Points Matching**\n",
        "Key Point Analysis (KPA) is a new NLP task, with strong relations to computational argumentation, opinion analysis, and summarization.\n",
        "\n",
        "Given an input corpus, consisting of a collection of relatively short, opinionated texts focused on a topic of interest, the goal of KPA is to produce a succinct list of the most prominent key-points in the input corpus, along with their relative prevalence. Thus, the output of KPA is a bullet-like summary, with an important quantitative angle and an associated well-defined evaluation framework. \n",
        "\n",
        "Successful solutions to KPA can be used to gain better insights from public opinions as expressed in social media, surveys, and so forth, giving rise to a new form of a communication channel between decision makers and people that might be impacted by the decision."
      ]
    },
    {
      "cell_type": "code",
      "execution_count": null,
      "metadata": {
        "id": "OxAEuybR3KvW"
      },
      "outputs": [],
      "source": [
        "import numpy as np\n",
        "import pandas as pd\n",
        "import tensorflow as tf\n",
        "\n",
        "!pip install tensorflow-text --quiet\n",
        "import tensorflow_text as text\n",
        "\n",
        "!pip install --upgrade tensorflow_hub --quiet\n",
        "import tensorflow_hub as hub\n",
        "\n",
        "import matplotlib.pyplot as plt\n",
        "from tqdm import tqdm\n",
        "\n",
        "!pip install contractions --quiet\n",
        "import contractions\n",
        "\n",
        "!pip install focal-loss --quiet\n",
        "import focal_loss\n",
        "\n",
        "!pip install -U sentence-transformers --quiet\n",
        "import sentence_transformers"
      ]
    },
    {
      "cell_type": "markdown",
      "metadata": {
        "id": "k2TCu5NMy3oG"
      },
      "source": [
        "## 1.0 **Data loading**\n",
        "The dataset is divided in:\n",
        "* Arguments (`arg_id`, `argument`, `topic`, `stance`);\n",
        "* Keypoint (`key_point_id`, `keypoint`, `topic`, `stance`);\n",
        "* Labels (`arg_id`, `key_point_id`, label).\n",
        "\n",
        "Each dataset has its own split (train, dev and test).\n",
        "The dataset is directly loaded via url from the GitHub repository."
      ]
    },
    {
      "cell_type": "code",
      "execution_count": null,
      "metadata": {
        "colab": {
          "base_uri": "https://localhost:8080/"
        },
        "id": "Iu4p-8vF3y-Y",
        "outputId": "a3ecad7f-1b60-4f47-b2b1-cbfb02d59ea1"
      },
      "outputs": [
        {
          "output_type": "stream",
          "name": "stdout",
          "text": [
            "There are 5583 arguments in the train set, 932 arguments in the dev set and 723 arguments in the test set.\n"
          ]
        }
      ],
      "source": [
        "# Arguments dataset loading.\n",
        "arguments_train = pd.read_csv(filepath_or_buffer = 'https://raw.githubusercontent.com/IBM/KPA_2021_shared_task/main/kpm_data/arguments_train.csv')\n",
        "arguments_dev = pd.read_csv(filepath_or_buffer = 'https://raw.githubusercontent.com/IBM/KPA_2021_shared_task/main/kpm_data/arguments_dev.csv')\n",
        "arguments_test = pd.read_csv(filepath_or_buffer = 'https://raw.githubusercontent.com/IBM/KPA_2021_shared_task/main/test_data/arguments_test.csv')\n",
        "\n",
        "print(f'There are {len(arguments_train)} arguments in the train set, {len(arguments_dev)} arguments in the dev set and {len(arguments_test)} arguments in the test set.')\n",
        "\n",
        "# Check.\n",
        "# arguments_train.head()\n",
        "# arguments_dev.head()\n",
        "# arguments_test.head()"
      ]
    },
    {
      "cell_type": "code",
      "execution_count": null,
      "metadata": {
        "colab": {
          "base_uri": "https://localhost:8080/"
        },
        "id": "N8T0uT3Z36q7",
        "outputId": "41319c3c-028c-46f6-fcde-5f0b9c7726c9"
      },
      "outputs": [
        {
          "output_type": "stream",
          "name": "stdout",
          "text": [
            "There are 207 keypoints in the train set, 36 keypoints in the dev set and 33 keypoints in the test set.\n"
          ]
        }
      ],
      "source": [
        "# Key-points dataest loading.\n",
        "key_points_train = pd.read_csv(filepath_or_buffer = 'https://raw.githubusercontent.com/IBM/KPA_2021_shared_task/main/kpm_data/key_points_train.csv')\n",
        "key_points_dev = pd.read_csv(filepath_or_buffer = 'https://raw.githubusercontent.com/IBM/KPA_2021_shared_task/main/kpm_data/key_points_dev.csv')\n",
        "key_points_test = pd.read_csv(filepath_or_buffer = 'https://raw.githubusercontent.com/IBM/KPA_2021_shared_task/main/test_data/key_points_test.csv')\n",
        "\n",
        "print(f'There are {len(key_points_train)} keypoints in the train set, {len(key_points_dev)} keypoints in the dev set and {len(key_points_test)} keypoints in the test set.')\n",
        "\n",
        "# Check.\n",
        "# key_points_train.head()\n",
        "# key_points_dev.head()\n",
        "# key_points_test.head()"
      ]
    },
    {
      "cell_type": "code",
      "execution_count": null,
      "metadata": {
        "colab": {
          "base_uri": "https://localhost:8080/"
        },
        "id": "xtqWZbTe36xS",
        "outputId": "eedad6ce-7b4f-4474-fe41-6c7036088752"
      },
      "outputs": [
        {
          "output_type": "stream",
          "name": "stdout",
          "text": [
            "There are 20635 labels in the train set, 3458 labels in the dev set and 3426 labels in the test set.\n"
          ]
        }
      ],
      "source": [
        "# Labels dataset loading.\n",
        "labels_train = pd.read_csv(filepath_or_buffer = 'https://raw.githubusercontent.com/IBM/KPA_2021_shared_task/main/kpm_data/labels_train.csv')\n",
        "labels_dev = pd.read_csv(filepath_or_buffer = 'https://raw.githubusercontent.com/IBM/KPA_2021_shared_task/main/kpm_data/labels_dev.csv')\n",
        "labels_test = pd.read_csv(filepath_or_buffer = 'https://raw.githubusercontent.com/IBM/KPA_2021_shared_task/main/test_data/labels_test.csv')\n",
        "\n",
        "print(f'There are {len(labels_train)} labels in the train set, {len(labels_dev)} labels in the dev set and {len(labels_test)} labels in the test set.')\n",
        "\n",
        "# Check.\n",
        "# labels_train.head()\n",
        "# labels_dev.head()\n",
        "# labels_test.head()"
      ]
    },
    {
      "cell_type": "markdown",
      "metadata": {
        "id": "_Sdi7-a6Ypch"
      },
      "source": [
        "The dataset is unbalanced."
      ]
    },
    {
      "cell_type": "code",
      "execution_count": null,
      "metadata": {
        "colab": {
          "base_uri": "https://localhost:8080/"
        },
        "id": "eZeDsyHXWrzn",
        "outputId": "ac0d7a67-1fd6-4220-e92b-b18ca4782060"
      },
      "outputs": [
        {
          "output_type": "stream",
          "name": "stdout",
          "text": [
            "There are 4260 positive samples and 16375 negative samples over 20635 samples of the training set.\n",
            "There are 738 positive samples and 2720 negative samples over 3458 samples of the development set.\n",
            "There are 552 positive samples and 2874 negative samples over 3426 samples of the test set.\n"
          ]
        }
      ],
      "source": [
        "# Balance of the train dataset.\n",
        "print(f\"There are {np.sum(labels_train['label'].tolist())} positive samples and {len(labels_train['label']) - np.sum(labels_train['label'].tolist())} negative samples over {len(labels_train['label'])} samples of the training set.\")\n",
        "# Balance of the dev dataset.\n",
        "print(f\"There are {np.sum(labels_dev['label'].tolist())} positive samples and {len(labels_dev['label']) - np.sum(labels_dev['label'].tolist())} negative samples over {len(labels_dev['label'])} samples of the development set.\")\n",
        "# Balance of the test dataset.\n",
        "print(f\"There are {np.sum(labels_test['label'].tolist())} positive samples and {len(labels_test['label']) - np.sum(labels_test['label'].tolist())} negative samples over {len(labels_test['label'])} samples of the test set.\")"
      ]
    },
    {
      "cell_type": "markdown",
      "metadata": {
        "id": "UaFHaKW9A_jt"
      },
      "source": [
        "## 2.0 **Data processing**"
      ]
    },
    {
      "cell_type": "markdown",
      "metadata": {
        "id": "2UGqYY2dBb5m"
      },
      "source": [
        "### 2.1 **Text cleaning**\n",
        "The text cleaning consists in lowercase every letter, expand abbreviations and verbal contractions, remove possible special characters and uncommon symbols.\n",
        "\n",
        "Notice that the new dataframes override the previous ones."
      ]
    },
    {
      "cell_type": "code",
      "execution_count": null,
      "metadata": {
        "colab": {
          "base_uri": "https://localhost:8080/"
        },
        "id": "a6YvcijoBe7J",
        "outputId": "ea0cf208-7a3a-4e32-aabd-b62d2324f64c"
      },
      "outputs": [
        {
          "output_type": "stream",
          "name": "stdout",
          "text": [
            "Before: \n",
            "\n",
            "                                            argument                                          topic\n",
            "0  `people reach their limit when it comes to the...  Assisted suicide should be a criminal offence\n",
            "1  A patient should be able to decide when they h...  Assisted suicide should be a criminal offence\n",
            "2  a person has the right to end their suffering ...  Assisted suicide should be a criminal offence\n",
            "3  a person should have the dignity to choose how...  Assisted suicide should be a criminal offence\n",
            "4  a person should have the right to be able to c...  Assisted suicide should be a criminal offence\n",
            "After: \n",
            "\n",
            "                                            argument                                          topic\n",
            "0  people reach their limit when it comes to thei...  assisted suicide should be a criminal offence\n",
            "1  a patient should be able to decide when they h...  assisted suicide should be a criminal offence\n",
            "2  a person has the right to end their suffering ...  assisted suicide should be a criminal offence\n",
            "3  a person should have the dignity to choose how...  assisted suicide should be a criminal offence\n",
            "4  a person should have the right to be able to c...  assisted suicide should be a criminal offence\n",
            "Before: \n",
            "\n",
            "                                            argument                                        topic\n",
            "0  having a school uniform can reduce bullying as...  We should abandon the use of school uniform\n",
            "1             it is a good way to instill discipline  We should abandon the use of school uniform\n",
            "2  it is cheaper for parents to buy school unifor...  We should abandon the use of school uniform\n",
            "3  one of the benefits of school uniforms is that...  We should abandon the use of school uniform\n",
            "4  researchers found that in schools across the w...  We should abandon the use of school uniform\n",
            "After: \n",
            "\n",
            "                                            argument                                        topic\n",
            "0  having a school uniform can reduce bullying as...  we should abandon the use of school uniform\n",
            "1             it is a good way to instill discipline  we should abandon the use of school uniform\n",
            "2  it is cheaper for parents to buy school unifor...  we should abandon the use of school uniform\n",
            "3  one of the benefits of school uniforms is that...  we should abandon the use of school uniform\n",
            "4  researchers found that in schools across the w...  we should abandon the use of school uniform\n",
            "Before: \n",
            "\n",
            "                                            argument                                           topic\n",
            "0  Routine child vaccinations isn't mandatory sin...  Routine child vaccinations should be mandatory\n",
            "1  Routine child vaccinations should not be manda...  Routine child vaccinations should be mandatory\n",
            "2  Routine child vaccinations should not be neces...  Routine child vaccinations should be mandatory\n",
            "3  A vaccine that has not been sufficiently teste...  Routine child vaccinations should be mandatory\n",
            "4  As long as vaccines are not free of side effec...  Routine child vaccinations should be mandatory\n",
            "After: \n",
            "\n",
            "                                            argument                                           topic\n",
            "0  routine child vaccinations is not mandatory si...  routine child vaccinations should be mandatory\n",
            "1  routine child vaccinations should not be manda...  routine child vaccinations should be mandatory\n",
            "2  routine child vaccinations should not be neces...  routine child vaccinations should be mandatory\n",
            "3  a vaccine that has not been sufficiently teste...  routine child vaccinations should be mandatory\n",
            "4  as long as vaccines are not free of side effec...  routine child vaccinations should be mandatory\n",
            "Before: \n",
            "\n",
            "                                           key_point                                          topic\n",
            "0  Assisted suicide gives dignity to the person t...  Assisted suicide should be a criminal offence\n",
            "1                 Assisted suicide reduces suffering  Assisted suicide should be a criminal offence\n",
            "2  People should have the freedom to choose to en...  Assisted suicide should be a criminal offence\n",
            "3  The terminally ill would benefit from assisted...  Assisted suicide should be a criminal offence\n",
            "4  Assisted suicide allows people to solicit some...  Assisted suicide should be a criminal offence\n",
            "After: \n",
            "\n",
            "                                           key_point                                          topic\n",
            "0  assisted suicide gives dignity to the person t...  assisted suicide should be a criminal offence\n",
            "1                 assisted suicide reduces suffering  assisted suicide should be a criminal offence\n",
            "2  people should have the freedom to choose to en...  assisted suicide should be a criminal offence\n",
            "3  the terminally ill would benefit from assisted...  assisted suicide should be a criminal offence\n",
            "4  assisted suicide allows people to solicit some...  assisted suicide should be a criminal offence\n",
            "Before: \n",
            "\n",
            "                                           key_point                                        topic\n",
            "0  Children can still express themselves using ot...  We should abandon the use of school uniform\n",
            "1                    School uniform reduces bullying  We should abandon the use of school uniform\n",
            "2  School uniforms encourage discipline or focus ...  We should abandon the use of school uniform\n",
            "3                        School uniforms saves costs  We should abandon the use of school uniform\n",
            "4   School uniforms create a sense of equality/unity  We should abandon the use of school uniform\n",
            "After: \n",
            "\n",
            "                                           key_point                                        topic\n",
            "0  children can still express themselves using ot...  we should abandon the use of school uniform\n",
            "1                    school uniform reduces bullying  we should abandon the use of school uniform\n",
            "2  school uniforms encourage discipline or focus ...  we should abandon the use of school uniform\n",
            "3                        school uniforms saves costs  we should abandon the use of school uniform\n",
            "4   school uniforms create a sense of equality unity  we should abandon the use of school uniform\n",
            "Before: \n",
            "\n",
            "                                           key_point                                           topic\n",
            "0  Routine child vaccinations, or their side effe...  Routine child vaccinations should be mandatory\n",
            "1     Mandatory vaccination contradicts basic rights  Routine child vaccinations should be mandatory\n",
            "2        The parents and not the state should decide  Routine child vaccinations should be mandatory\n",
            "3  Routine child vaccinations are not necessary t...  Routine child vaccinations should be mandatory\n",
            "4           Routine child vaccinations are effective  Routine child vaccinations should be mandatory\n",
            "After: \n",
            "\n",
            "                                           key_point                                           topic\n",
            "0  routine child vaccinations  or their side effe...  routine child vaccinations should be mandatory\n",
            "1     mandatory vaccination contradicts basic rights  routine child vaccinations should be mandatory\n",
            "2        the parents and not the state should decide  routine child vaccinations should be mandatory\n",
            "3  routine child vaccinations are not necessary t...  routine child vaccinations should be mandatory\n",
            "4           routine child vaccinations are effective  routine child vaccinations should be mandatory\n"
          ]
        }
      ],
      "source": [
        "import re\n",
        "import nltk\n",
        "\n",
        "from typing import List, Callable\n",
        "from functools import reduce\n",
        "\n",
        "# Lowercase everything.\n",
        "def lower(text: str) -> str:\n",
        "    return text.lower()\n",
        "\n",
        "# Expand abbreviations and verbal contractions.\n",
        "def expand(text: str) -> str:\n",
        "    return contractions.fix(text)\n",
        "\n",
        "# Remove special characters.\n",
        "def replace_special_characters(text: str) -> str:\n",
        "    replace_symbols = re.compile('[/(){}\\[\\]\\|@,;]')\n",
        "    return replace_symbols.sub(' ', text)\n",
        "\n",
        "def filter_out_uncommon_symbols(text: str) -> str:\n",
        "    good_symbols = re.compile('[^0-9a-z #+_]')\n",
        "    return re.sub(good_symbols, '', text)\n",
        "\n",
        "pipeline = [lower, expand, replace_special_characters, filter_out_uncommon_symbols]\n",
        "\n",
        "def text_prepare(text: str,\n",
        "                 filter_methods: List[Callable[[str], str]] = None) -> str:\n",
        "    '''\n",
        "    Applies a list of pre-processing functions in sequence (reduce).\n",
        "    Note that the order is important here!\n",
        "    '''\n",
        "\n",
        "    filter_methods = filter_methods if filter_methods is not None else pipeline\n",
        "\n",
        "    return reduce(lambda txt, f: f(txt), filter_methods, text)\n",
        "\n",
        "def cleaning(dataframes: list, labels: list):\n",
        "  for dataframe in dataframes:\n",
        "    print('Before: \\n')\n",
        "    print(dataframe[labels].head(5))\n",
        "    \n",
        "    for label in labels:\n",
        "      dataframe[label] = dataframe[label].apply(lambda txt: text_prepare(txt))\n",
        "    \n",
        "    print('After: \\n')\n",
        "    print(dataframe[labels].head(5))\n",
        "\n",
        "arguments_dataset_list = [arguments_train, arguments_dev, arguments_test]\n",
        "arguments_labels_list = ['argument', 'topic']\n",
        "\n",
        "cleaning(arguments_dataset_list, arguments_labels_list)\n",
        "\n",
        "key_points_datasets_list = [key_points_train, key_points_dev, key_points_test]\n",
        "key_points_labels_list = ['key_point', 'topic']\n",
        "\n",
        "cleaning(key_points_datasets_list, key_points_labels_list)"
      ]
    },
    {
      "cell_type": "code",
      "execution_count": null,
      "metadata": {
        "colab": {
          "base_uri": "https://localhost:8080/",
          "height": 206
        },
        "id": "gKwkADByDWSc",
        "outputId": "eff75eea-b857-43ec-f219-a9d80d77d063"
      },
      "outputs": [
        {
          "output_type": "execute_result",
          "data": {
            "text/html": [
              "\n",
              "  <div id=\"df-3dc2fd35-730d-49e6-9012-482eee8e0705\">\n",
              "    <div class=\"colab-df-container\">\n",
              "      <div>\n",
              "<style scoped>\n",
              "    .dataframe tbody tr th:only-of-type {\n",
              "        vertical-align: middle;\n",
              "    }\n",
              "\n",
              "    .dataframe tbody tr th {\n",
              "        vertical-align: top;\n",
              "    }\n",
              "\n",
              "    .dataframe thead th {\n",
              "        text-align: right;\n",
              "    }\n",
              "</style>\n",
              "<table border=\"1\" class=\"dataframe\">\n",
              "  <thead>\n",
              "    <tr style=\"text-align: right;\">\n",
              "      <th></th>\n",
              "      <th>key_point_id</th>\n",
              "      <th>key_point</th>\n",
              "      <th>topic</th>\n",
              "      <th>stance</th>\n",
              "    </tr>\n",
              "  </thead>\n",
              "  <tbody>\n",
              "    <tr>\n",
              "      <th>0</th>\n",
              "      <td>kp_4_0</td>\n",
              "      <td>children can still express themselves using ot...</td>\n",
              "      <td>we should abandon the use of school uniform</td>\n",
              "      <td>-1</td>\n",
              "    </tr>\n",
              "    <tr>\n",
              "      <th>1</th>\n",
              "      <td>kp_4_1</td>\n",
              "      <td>school uniform reduces bullying</td>\n",
              "      <td>we should abandon the use of school uniform</td>\n",
              "      <td>-1</td>\n",
              "    </tr>\n",
              "    <tr>\n",
              "      <th>2</th>\n",
              "      <td>kp_4_2</td>\n",
              "      <td>school uniforms encourage discipline or focus ...</td>\n",
              "      <td>we should abandon the use of school uniform</td>\n",
              "      <td>-1</td>\n",
              "    </tr>\n",
              "    <tr>\n",
              "      <th>3</th>\n",
              "      <td>kp_4_3</td>\n",
              "      <td>school uniforms saves costs</td>\n",
              "      <td>we should abandon the use of school uniform</td>\n",
              "      <td>-1</td>\n",
              "    </tr>\n",
              "    <tr>\n",
              "      <th>4</th>\n",
              "      <td>kp_4_4</td>\n",
              "      <td>school uniforms create a sense of equality unity</td>\n",
              "      <td>we should abandon the use of school uniform</td>\n",
              "      <td>-1</td>\n",
              "    </tr>\n",
              "  </tbody>\n",
              "</table>\n",
              "</div>\n",
              "      <button class=\"colab-df-convert\" onclick=\"convertToInteractive('df-3dc2fd35-730d-49e6-9012-482eee8e0705')\"\n",
              "              title=\"Convert this dataframe to an interactive table.\"\n",
              "              style=\"display:none;\">\n",
              "        \n",
              "  <svg xmlns=\"http://www.w3.org/2000/svg\" height=\"24px\"viewBox=\"0 0 24 24\"\n",
              "       width=\"24px\">\n",
              "    <path d=\"M0 0h24v24H0V0z\" fill=\"none\"/>\n",
              "    <path d=\"M18.56 5.44l.94 2.06.94-2.06 2.06-.94-2.06-.94-.94-2.06-.94 2.06-2.06.94zm-11 1L8.5 8.5l.94-2.06 2.06-.94-2.06-.94L8.5 2.5l-.94 2.06-2.06.94zm10 10l.94 2.06.94-2.06 2.06-.94-2.06-.94-.94-2.06-.94 2.06-2.06.94z\"/><path d=\"M17.41 7.96l-1.37-1.37c-.4-.4-.92-.59-1.43-.59-.52 0-1.04.2-1.43.59L10.3 9.45l-7.72 7.72c-.78.78-.78 2.05 0 2.83L4 21.41c.39.39.9.59 1.41.59.51 0 1.02-.2 1.41-.59l7.78-7.78 2.81-2.81c.8-.78.8-2.07 0-2.86zM5.41 20L4 18.59l7.72-7.72 1.47 1.35L5.41 20z\"/>\n",
              "  </svg>\n",
              "      </button>\n",
              "      \n",
              "  <style>\n",
              "    .colab-df-container {\n",
              "      display:flex;\n",
              "      flex-wrap:wrap;\n",
              "      gap: 12px;\n",
              "    }\n",
              "\n",
              "    .colab-df-convert {\n",
              "      background-color: #E8F0FE;\n",
              "      border: none;\n",
              "      border-radius: 50%;\n",
              "      cursor: pointer;\n",
              "      display: none;\n",
              "      fill: #1967D2;\n",
              "      height: 32px;\n",
              "      padding: 0 0 0 0;\n",
              "      width: 32px;\n",
              "    }\n",
              "\n",
              "    .colab-df-convert:hover {\n",
              "      background-color: #E2EBFA;\n",
              "      box-shadow: 0px 1px 2px rgba(60, 64, 67, 0.3), 0px 1px 3px 1px rgba(60, 64, 67, 0.15);\n",
              "      fill: #174EA6;\n",
              "    }\n",
              "\n",
              "    [theme=dark] .colab-df-convert {\n",
              "      background-color: #3B4455;\n",
              "      fill: #D2E3FC;\n",
              "    }\n",
              "\n",
              "    [theme=dark] .colab-df-convert:hover {\n",
              "      background-color: #434B5C;\n",
              "      box-shadow: 0px 1px 3px 1px rgba(0, 0, 0, 0.15);\n",
              "      filter: drop-shadow(0px 1px 2px rgba(0, 0, 0, 0.3));\n",
              "      fill: #FFFFFF;\n",
              "    }\n",
              "  </style>\n",
              "\n",
              "      <script>\n",
              "        const buttonEl =\n",
              "          document.querySelector('#df-3dc2fd35-730d-49e6-9012-482eee8e0705 button.colab-df-convert');\n",
              "        buttonEl.style.display =\n",
              "          google.colab.kernel.accessAllowed ? 'block' : 'none';\n",
              "\n",
              "        async function convertToInteractive(key) {\n",
              "          const element = document.querySelector('#df-3dc2fd35-730d-49e6-9012-482eee8e0705');\n",
              "          const dataTable =\n",
              "            await google.colab.kernel.invokeFunction('convertToInteractive',\n",
              "                                                     [key], {});\n",
              "          if (!dataTable) return;\n",
              "\n",
              "          const docLinkHtml = 'Like what you see? Visit the ' +\n",
              "            '<a target=\"_blank\" href=https://colab.research.google.com/notebooks/data_table.ipynb>data table notebook</a>'\n",
              "            + ' to learn more about interactive tables.';\n",
              "          element.innerHTML = '';\n",
              "          dataTable['output_type'] = 'display_data';\n",
              "          await google.colab.output.renderOutput(dataTable, element);\n",
              "          const docLink = document.createElement('div');\n",
              "          docLink.innerHTML = docLinkHtml;\n",
              "          element.appendChild(docLink);\n",
              "        }\n",
              "      </script>\n",
              "    </div>\n",
              "  </div>\n",
              "  "
            ],
            "text/plain": [
              "  key_point_id  ... stance\n",
              "0       kp_4_0  ...     -1\n",
              "1       kp_4_1  ...     -1\n",
              "2       kp_4_2  ...     -1\n",
              "3       kp_4_3  ...     -1\n",
              "4       kp_4_4  ...     -1\n",
              "\n",
              "[5 rows x 4 columns]"
            ]
          },
          "metadata": {},
          "execution_count": 8
        }
      ],
      "source": [
        "# Check.\n",
        "# arguments_train.head()\n",
        "# arguments_dev.head()\n",
        "# arguments_test.head()\n",
        "\n",
        "# key_points_train.head()\n",
        "key_points_dev.head()\n",
        "# key_points_test.head()"
      ]
    },
    {
      "cell_type": "markdown",
      "source": [
        "### 2.2 **Text tokenization**\n",
        "Text tokenization consists into split a whole sentencences into meaningful pieces of it. It is achieved with the punkt tokenizer by NLTK."
      ],
      "metadata": {
        "id": "wF_FoUnEbfHK"
      }
    },
    {
      "cell_type": "code",
      "source": [
        "# Create copies of the processed dataframes.\n",
        "arguments_train_tok = arguments_train.copy()\n",
        "arguments_dev_tok = arguments_dev.copy()\n",
        "arguments_test_tok = arguments_test.copy()\n",
        "\n",
        "key_points_train_tok = key_points_train.copy()\n",
        "key_points_dev_tok = key_points_dev.copy()\n",
        "key_points_test_tok = key_points_test.copy()\n",
        "\n",
        "# Note: it takes a while.\n",
        "from nltk.tokenize import wordpunct_tokenize\n",
        "\n",
        "def tokenize_dataset(dataframes: list, labels: list):\n",
        "  for df in dataframes:\n",
        "    for lab in labels:\n",
        "      df[lab] = df[lab].apply(wordpunct_tokenize)\n",
        "\n",
        "tokenize_dataset([arguments_train_tok, arguments_dev_tok, arguments_test_tok], labels = arguments_labels_list)\n",
        "tokenize_dataset([key_points_train_tok, key_points_dev_tok, key_points_test_tok], labels = key_points_labels_list)"
      ],
      "metadata": {
        "id": "tfkyF1albkaX"
      },
      "execution_count": null,
      "outputs": []
    },
    {
      "cell_type": "markdown",
      "source": [
        "### 2.3 **Lenghts analysis**\n",
        "Padding is not needed for processor and the pre-trained models since they automatically takes into account different lengths, but is needed for the GloVe embeddings.\n",
        "\n",
        "In any case, length distribution studies are useful to decide if it makes sense to employ attention mechanisms.\n",
        "\n",
        "Key-points lengths are not considered since their maximum length is fixed."
      ],
      "metadata": {
        "id": "7szBYrm3SAn_"
      }
    },
    {
      "cell_type": "code",
      "source": [
        "def extract_info(dataframe: pd.DataFrame) -> int:\n",
        "  plt.figure()\n",
        "  plt.title('Argument length distribution vs. Topic length distribution ')\n",
        "  \n",
        "  no_token_argument = [len(sentence) for sentence in dataframe['argument']]\n",
        "  n_c, _, _ = plt.hist(no_token_argument, bins = [i for i in range(1, 50)], cumulative = False)\n",
        "\n",
        "  no_token_topic = [len(sentence) for sentence in dataframe['topic']]\n",
        "  n_e, _, _ = plt.hist(no_token_topic, bins = [i for i in range(1, 50)], cumulative = False)\n",
        "\n",
        "  return max(max(no_token_argument), max(no_token_topic))\n",
        "\n",
        "max_tokens = max(extract_info(arguments_train_tok), extract_info(arguments_dev_tok))\n",
        "\n",
        "print(f'The maximum found length is {max_tokens}.')"
      ],
      "metadata": {
        "colab": {
          "base_uri": "https://localhost:8080/",
          "height": 563
        },
        "id": "5a-pU6gLSNP3",
        "outputId": "9e1ac1f0-4fae-40ae-86b7-6df885f82c81"
      },
      "execution_count": null,
      "outputs": [
        {
          "output_type": "stream",
          "name": "stdout",
          "text": [
            "The maximum found length is 44.\n"
          ]
        },
        {
          "output_type": "display_data",
          "data": {
            "image/png": "[encoded data removed]",
            "text/plain": [
              "<Figure size 432x288 with 1 Axes>"
            ]
          },
          "metadata": {
            "needs_background": "light"
          }
        },
        {
          "output_type": "display_data",
          "data": {
            "image/png": "[encoded data removed]",
            "text/plain": [
              "<Figure size 432x288 with 1 Axes>"
            ]
          },
          "metadata": {
            "needs_background": "light"
          }
        }
      ]
    },
    {
      "cell_type": "markdown",
      "metadata": {
        "id": "vVmQwxuSiXiP"
      },
      "source": [
        "## 3.0 **The Key-Points Matching problem**\n",
        "Given a controversial topic $T$ with a list of $m$ arguments and $n$ key\n",
        "points:\n",
        "* $A_1, A_2, \\dots, A_m$; \n",
        "* $K_1, K_2, \\dots, K_n$,\n",
        "\n",
        "along with their corresponding $m+n$ stances:\n",
        "* $S_1, S_2, \\dots, S_{m+n}$;\n",
        "\n",
        "with $S_i \\in \\{−1, 1\\}$, which\n",
        "imply the attack or support relationships against the topic, the task is to rank key points that have the same stance with an input argument by the matching score.\n",
        "\n",
        "This priority is dependent on both the topic and the semantic of statements."
      ]
    },
    {
      "cell_type": "markdown",
      "source": [
        "## 4.0 **Unsupervised approaches**"
      ],
      "metadata": {
        "id": "AmyX8LL-U0Em"
      }
    },
    {
      "cell_type": "markdown",
      "source": [
        "### 4.1 **Pre-trained embeddings**\n",
        "It is possible to use pre-trained embeddings to measure the \"distance\" of each pair of keyword and argument.\n",
        "\n",
        "GloVe is a context independent model that computes a single embedding for each word, while BERT is a contextualized embedding model that takes the entire sentence into account.\n",
        "\n",
        "Again, we use cosine similarity to compute the match score.\n",
        "\n",
        "For each method it is possible to decide wether to consider also topic and stance."
      ],
      "metadata": {
        "id": "tDr2J9xaVUcm"
      }
    },
    {
      "cell_type": "markdown",
      "source": [
        "#### 4.1.1 **GloVe embeddings**\n",
        "GloVe is an unsupervised learning algorithm for obtaining vector representations for words. Training is performed on aggregated global word-word co-occurrence statistics from a corpus, and the resulting representations showcase interesting linear substructures of the word vector space.\n",
        "\n",
        "\n",
        "The training objective of GloVe is to learn word vectors such that their dot product equals the logarithm of the words' probability of co-occurrence. Owing to the fact that the logarithm of a ratio equals the difference of logarithms, this objective associates (the logarithm of) ratios of co-occurrence probabilities with vector differences in the word vector space. Because these ratios can encode some form of meaning, this information gets encoded as vector differences as well. \n"
      ],
      "metadata": {
        "id": "Rajy4_AbXPVa"
      }
    },
    {
      "cell_type": "markdown",
      "source": [
        "##### 4.1.1.1 **Out-of-vocaboulary terms & embedding**\n",
        "At first some functions to handle OOVs terms and token embeddings are define. In particular:\n",
        "* `build_vocaboulary`: create a double vocaboulary from a dataframe to mantain encode and decode tokens;\n",
        "* `load_glove_embedding`: given a chosen embedding dimension, it downloads the corresponding pre-trained corpus;\n",
        "* `get_OOV_terms`: given a vocaboulary and a word listings returns the set of OOV terms;\n",
        "* `build_embedding_matrix`: returns the matrix to pass to the embedding layer as kernel initializer."
      ],
      "metadata": {
        "id": "bKK1gosDXKiw"
      }
    },
    {
      "cell_type": "code",
      "source": [
        "import gensim\n",
        "import gensim.downloader as gloader\n",
        "\n",
        "from collections import OrderedDict\n",
        "from typing import OrderedDict\n",
        "\n",
        "def build_vocabulary(dataset: pd.DataFrame, labels: list) -> (OrderedDict[int, str], OrderedDict[str, int], list):\n",
        "    idx2word = OrderedDict()\n",
        "    word2idx = OrderedDict()\n",
        "    \n",
        "    curr_idx = 1 # Start at 1 since 0 is reserved for padding.\n",
        "\n",
        "    for label in labels:\n",
        "      for row in tqdm(dataset[label].values):\n",
        "        for token in row:\n",
        "            if token not in word2idx:\n",
        "                word2idx[token] = curr_idx\n",
        "                idx2word[curr_idx] = token\n",
        "                curr_idx += 1\n",
        "\n",
        "    word_listing = list(idx2word.values())\n",
        "\n",
        "    return idx2word, word2idx, word_listing\n",
        "\n",
        "def load_glove_embedding(embedding_dimension: int) -> gensim.models.keyedvectors.KeyedVectors:\n",
        "    download_path = \"glove-wiki-gigaword-{}\".format(embedding_dimension)\n",
        "\n",
        "    # Sanity check.\n",
        "    try:\n",
        "        embedded_model = gloader.load(download_path)\n",
        "    except ValueError as e:\n",
        "        print(\"Invalid embedding dimension.\")\n",
        "        raise e\n",
        "\n",
        "    return embedded_model\n",
        "\n",
        "def get_OOV_terms(embedding_model: gensim.models.keyedvectors.KeyedVectors, word_listing: List[str]) -> list:\n",
        "    embedding_vocabulary = set(embedding_model.vocab.keys())\n",
        "    oov = set(word_listing).difference(embedding_vocabulary)\n",
        "    return list(oov)\n",
        "\n",
        "def build_embedding_matrix(embedding_model: gensim.models.keyedvectors.KeyedVectors,\n",
        "                           embedding_dimension: int,\n",
        "                           word2idx: OrderedDict[str, int],\n",
        "                           vocab_size: int) -> np.ndarray:\n",
        "\n",
        "    # Note: we take (vocab_size) + 1 since we start counting by 1, having reserved 0 for the padding.\n",
        "    embedding_matrix = np.zeros((vocab_size + 1, embedding_dimension), dtype = np.float32) \n",
        "\n",
        "    for word, idx in tqdm(word2idx.items()):\n",
        "        try:\n",
        "            embedding_vector = embedding_model[word]\n",
        "        except (KeyError, TypeError):\n",
        "            embedding_vector = np.random.uniform(low = -0.05, high = 0.05, size = embedding_dimension)\n",
        "\n",
        "        embedding_matrix[idx] = embedding_vector\n",
        "\n",
        "    return embedding_matrix\n",
        "\n",
        "emb_dim = 300\n",
        "embedded_model = load_glove_embedding(embedding_dimension = emb_dim)"
      ],
      "metadata": {
        "id": "dwoPB90ZXkLc",
        "colab": {
          "base_uri": "https://localhost:8080/"
        },
        "outputId": "d3f3d5e2-45c0-46cf-b78e-aa33165c2ddc"
      },
      "execution_count": null,
      "outputs": [
        {
          "output_type": "stream",
          "name": "stdout",
          "text": [
            "[==================================================] 100.0% 376.1/376.1MB downloaded\n"
          ]
        }
      ]
    },
    {
      "cell_type": "markdown",
      "source": [
        "At first the vocabularies of words and tags for the training set is created, the out-of-vocabularies (OOV) words extracted, assigning random vectors for the OOV words. The same process is repeated for the validation set, taking into account the fact that the OOV words already considered for the training set, are not OOV words for the validation set. The same was done for the test set.\n",
        "\n",
        "Note: the process must take into account arguments and key-points (two distinct dataframes).\n"
      ],
      "metadata": {
        "id": "GQprH0lHYrib"
      }
    },
    {
      "cell_type": "code",
      "source": [
        "# Step 0: load GloVe vocaboulary.\n",
        "vocaboulary = list(embedded_model.vocab.keys()) \n",
        "\n",
        "# Step 1: creation of vocaboulary for the training set and extraction of his OOVs.\n",
        "_, _, word_listing_train_arg = build_vocabulary(arguments_train_tok, ['argument'])\n",
        "_, _, word_listing_train_kp = build_vocabulary(key_points_train_tok, ['key_point'])\n",
        "\n",
        "word_listing_train = word_listing_train_arg + word_listing_train_kp\n",
        "\n",
        "oov_terms_train = get_OOV_terms(embedded_model, word_listing_train)\n",
        "print(f'There are {len(oov_terms_train)} OOVs in the training set.')\n",
        "\n",
        "print('\\n')\n",
        "\n",
        "# Step 2: creation of vocabulary for the validation set and extraction of his OOVs, taking into account the ones already from training set.\n",
        "_, _, word_listing_val_arg = build_vocabulary(arguments_dev_tok, ['argument'])\n",
        "_, _, word_listing_val_kp = build_vocabulary(key_points_dev_tok, ['key_point'])\n",
        "\n",
        "word_listing_val = word_listing_val_arg + word_listing_val_kp\n",
        "\n",
        "oov_terms_val = get_OOV_terms(embedded_model, word_listing_val)\n",
        "oov_terms_val = list(set(oov_terms_val).difference(set(oov_terms_train)))\n",
        "print(f'There are {len(oov_terms_val)} new OOVs in the validation set.')\n",
        "\n",
        "print('\\n')\n",
        "\n",
        "# Step 3: creation of vocabulary for the test set and extraction of his OOVs.\n",
        "_, _, word_listing_test_arg = build_vocabulary(arguments_test_tok, ['argument'])\n",
        "_, _, word_listing_test_kp = build_vocabulary(key_points_test_tok, ['key_point'])\n",
        "\n",
        "word_listing_test = word_listing_test_arg + word_listing_test_kp\n",
        "\n",
        "oov_terms_test = get_OOV_terms(embedded_model, word_listing_test)\n",
        "oov_terms_test = list(set(oov_terms_test).difference((set(oov_terms_train).union(set(oov_terms_val)))))\n",
        "print(f'There are {len(oov_terms_test)} new OOVs in the test set.')\n",
        "\n",
        "print('\\n')\n",
        "\n",
        "# Step 4: merge vocabulary and OOVs.\n",
        "vocaboulary = np.concatenate((vocaboulary, oov_terms_train, oov_terms_val, oov_terms_test))\n",
        "\n",
        "# Step 5: creation of a comprehensive dictionary.\n",
        "word2idx = dict(zip(vocaboulary, range(1, len(vocaboulary) + 1))) # Start from 1 since we reserve 0 for padding.\n",
        "\n",
        "# Step 6: creation of the whole embedding matrix.\n",
        "embedding_matrix = build_embedding_matrix(embedded_model, emb_dim, word2idx, len(word2idx))\n",
        "\n",
        "print('\\n')\n",
        "print(\"Embedding matrix shape: {}.\".format(embedding_matrix.shape))"
      ],
      "metadata": {
        "colab": {
          "base_uri": "https://localhost:8080/"
        },
        "id": "x2I-TwCsZQ5E",
        "outputId": "964c23b8-5994-490a-971c-f58e00cb054f"
      },
      "execution_count": null,
      "outputs": [
        {
          "output_type": "stream",
          "name": "stderr",
          "text": [
            "100%|██████████| 5583/5583 [00:00<00:00, 372475.65it/s]\n",
            "100%|██████████| 207/207 [00:00<00:00, 401211.15it/s]\n"
          ]
        },
        {
          "output_type": "stream",
          "name": "stdout",
          "text": [
            "There are 235 OOVs in the training set.\n",
            "\n",
            "\n"
          ]
        },
        {
          "output_type": "stream",
          "name": "stderr",
          "text": [
            "100%|██████████| 932/932 [00:00<00:00, 286485.26it/s]\n",
            "100%|██████████| 36/36 [00:00<00:00, 247939.15it/s]\n"
          ]
        },
        {
          "output_type": "stream",
          "name": "stdout",
          "text": [
            "There are 43 new OOVs in the validation set.\n",
            "\n",
            "\n"
          ]
        },
        {
          "output_type": "stream",
          "name": "stderr",
          "text": [
            "100%|██████████| 723/723 [00:00<00:00, 252896.49it/s]\n",
            "100%|██████████| 33/33 [00:00<00:00, 191972.31it/s]\n"
          ]
        },
        {
          "output_type": "stream",
          "name": "stdout",
          "text": [
            "There are 23 new OOVs in the test set.\n",
            "\n",
            "\n"
          ]
        },
        {
          "output_type": "stream",
          "name": "stderr",
          "text": [
            "100%|██████████| 400301/400301 [00:01<00:00, 387886.66it/s]"
          ]
        },
        {
          "output_type": "stream",
          "name": "stdout",
          "text": [
            "\n",
            "\n",
            "Embedding matrix shape: (400302, 300).\n"
          ]
        },
        {
          "output_type": "stream",
          "name": "stderr",
          "text": [
            "\n"
          ]
        }
      ]
    },
    {
      "cell_type": "markdown",
      "source": [
        "##### 4.1.1.2 **Dataset encoding**\n",
        "The datasets are encoded and aligned with the respective identifiers."
      ],
      "metadata": {
        "id": "WnLsRwA1dawp"
      }
    },
    {
      "cell_type": "code",
      "source": [
        "def encode_sentence(sentence, word2idx):\n",
        "  return [word2idx[words] for words in sentence]\n",
        "\n",
        "def encode_dataframe(dataframe, word2idx, columns):\n",
        "  encoded_dataframe = pd.DataFrame(columns = columns)\n",
        "\n",
        "  for column in columns:\n",
        "    encoded_dataframe[column] = dataframe[column].apply(lambda sentence: encode_sentence(sentence, word2idx))\n",
        "\n",
        "  return encoded_dataframe\n",
        "\n",
        "# The dataset is encoded and then the id columns restored.\n",
        "arguments_train_enc = encode_dataframe(arguments_train_tok, word2idx, arguments_labels_list)\n",
        "arguments_train_enc['arg_id'] = arguments_train['arg_id']\n",
        "\n",
        "arguments_dev_enc = encode_dataframe(arguments_dev_tok, word2idx, arguments_labels_list)\n",
        "arguments_dev_enc['arg_id'] = arguments_dev['arg_id']\n",
        "\n",
        "arguments_test_enc = encode_dataframe(arguments_test_tok, word2idx, arguments_labels_list)\n",
        "arguments_test_enc['arg_id'] = arguments_test['arg_id']\n",
        "\n",
        "key_points_train_enc = encode_dataframe(key_points_train_tok, word2idx, key_points_labels_list)\n",
        "key_points_train_enc['key_point_id'] = key_points_train['key_point_id']\n",
        "\n",
        "key_points_dev_enc = encode_dataframe(key_points_dev_tok, word2idx, key_points_labels_list)\n",
        "key_points_dev_enc['key_point_id'] = key_points_dev['key_point_id']\n",
        "\n",
        "key_points_test_enc = encode_dataframe(key_points_test_tok, word2idx, key_points_labels_list)\n",
        "key_points_test_enc['key_point_id'] = key_points_test['key_point_id']"
      ],
      "metadata": {
        "id": "8pxuQpUteQxK"
      },
      "execution_count": null,
      "outputs": []
    },
    {
      "cell_type": "markdown",
      "source": [
        "##### 4.1.1.3 **Labels alignment**\n",
        "The pairs of argument and key-point pairs identifier are extracted. With these pairs the encoded arguments and key-points are extracted.\n",
        "\n",
        "Topic and stance gives the “main context”. The argument and the key-point can also be integrated with this main context and then matched."
      ],
      "metadata": {
        "id": "sRs3KYRFX9GU"
      }
    },
    {
      "cell_type": "code",
      "source": [
        "from keras.preprocessing.sequence import pad_sequences\n",
        "\n",
        "def flatten(t: list) -> list:\n",
        "  # Flatten a nested list.\n",
        "  return [item for sublist in t for item in sublist]\n",
        "\n",
        "indexes = [i for i in range(len(labels_test))]\n",
        "\n",
        "# Generations of pairs arg-kp of the test set.\n",
        "arg_id = [labels_test['arg_id'][k] for k in indexes]\n",
        "kp_id = [labels_test['key_point_id'][k] for k in indexes]\n",
        "\n",
        "# Arguments extraction.\n",
        "arguments = flatten([arguments_test_enc.loc[arguments_test_enc['arg_id'] == arg]['argument'].tolist() for arg in arg_id])\n",
        "arguments = pad_sequences(arguments, maxlen = max_tokens, padding = 'post')\n",
        "\n",
        "# Key-points extraction.\n",
        "keypoints = flatten([key_points_test_enc.loc[key_points_test_enc['key_point_id'] == kp]['key_point'].tolist() for kp in kp_id])\n",
        "keypoints = pad_sequences(keypoints, maxlen = max_tokens, padding = 'post')\n",
        "\n",
        "# Topics extraction.\n",
        "topics = flatten([arguments_test_enc.loc[arguments_test_enc['arg_id'] == arg]['topic'].tolist() for arg in arg_id])\n",
        "topics = pad_sequences(keypoints, maxlen = max_tokens, padding = 'post')"
      ],
      "metadata": {
        "id": "ROmFLDWeYN5J"
      },
      "execution_count": null,
      "outputs": []
    },
    {
      "cell_type": "markdown",
      "source": [
        "##### 4.1.1.4 **GloVe application**\n",
        "GloVe embedding matrix is applied, unrolling the vectors in order to apply the cosine similarity.\n"
      ],
      "metadata": {
        "id": "Qk9m4lFnbyE1"
      }
    },
    {
      "cell_type": "code",
      "source": [
        "# Application of the embedding matrix.\n",
        "arguments_emb = embedding_matrix[arguments].reshape((len(labels_test), -1))\n",
        "keypoints_emb = embedding_matrix[keypoints].reshape((len(labels_test), -1))\n",
        "\n",
        "# Concatenation of the topic and application of the embedding matrix.\n",
        "arguments_topic = np.concatenate((arguments, topics), axis = -1)\n",
        "keypoints_topic = np.concatenate((keypoints, topics), axis = -1)\n",
        "\n",
        "arguments_topic_emb = embedding_matrix[arguments_topic].reshape((len(labels_test), -1))\n",
        "keypoints_topic_emb = embedding_matrix[keypoints_topic].reshape((len(labels_test), -1))"
      ],
      "metadata": {
        "id": "XAHdckHoZhnP"
      },
      "execution_count": null,
      "outputs": []
    },
    {
      "cell_type": "markdown",
      "source": [
        "##### 4.1.1.5 **Cosine similarity calculation and evaluation**\n",
        "Cosine similarity is evaluated wether if the topic is considered or not. The general performances are worsened if the topic is taken into account, but the average precision score is higher in the latter case. \n",
        "\n",
        "The cause can be the redundacy in of the such feature.\n"
      ],
      "metadata": {
        "id": "duCMkydXatVA"
      }
    },
    {
      "cell_type": "code",
      "source": [
        "def cos_sim(vec1: np.ndarray, vec2: np.ndarray) -> np.ndarray:\n",
        "  return np.dot(vec1, vec2)/(np.linalg.norm(vec1) * np.linalg.norm(vec2))\n",
        "\n",
        "# Cosine similarity is calculated and then rounded. \n",
        "predictions_glove_no_topic = np.rint([cos_sim(arguments_emb[i], keypoints_emb[i]) for i in range(len(indexes))])\n",
        "predictions_glove_with_topic = np.rint([cos_sim(arguments_topic_emb[i], keypoints_topic_emb[i]) for i in range(len(indexes))])\n",
        "\n",
        "true_values = labels_test['label'].to_numpy()"
      ],
      "metadata": {
        "id": "r-UkjJQQeeaI"
      },
      "execution_count": null,
      "outputs": []
    },
    {
      "cell_type": "code",
      "source": [
        "from sklearn.metrics import classification_report, average_precision_score, PrecisionRecallDisplay, balanced_accuracy_score, ConfusionMatrixDisplay\n",
        "\n",
        "print('Metrics when topic is not considered:')\n",
        "print(classification_report(true_values, predictions_glove_no_topic))\n",
        "print(f'The average precision score is: {average_precision_score(true_values, predictions_glove_no_topic)}.')\n",
        "print(f'The balanced accuracy precision score is: {balanced_accuracy_score(true_values, predictions_glove_no_topic)}.')\n",
        "\n",
        "print(f'The confusion matrix is: ')\n",
        "ConfusionMatrixDisplay.from_predictions(y_true = true_values, y_pred = predictions_glove_no_topic);\n",
        "\n",
        "print('\\n')\n",
        "\n",
        "print('Metrics when topic is considered:')\n",
        "print(classification_report(true_values, predictions_glove_with_topic))\n",
        "print(f'The average precision score is: {average_precision_score(true_values, predictions_glove_with_topic)}.')\n",
        "print(f'The balanced accuracy score is: {balanced_accuracy_score(true_values, predictions_glove_with_topic)}.')\n",
        "\n",
        "print(f'The confusion matrix is: ')\n",
        "ConfusionMatrixDisplay.from_predictions(true_values, predictions_glove_with_topic);"
      ],
      "metadata": {
        "colab": {
          "base_uri": "https://localhost:8080/",
          "height": 1000
        },
        "id": "nJH6U2CYgqrR",
        "outputId": "83fd7526-2e7b-4ea2-e133-6bf9db7387dc"
      },
      "execution_count": null,
      "outputs": [
        {
          "output_type": "stream",
          "name": "stdout",
          "text": [
            "Metrics when topic is not considered:\n",
            "              precision    recall  f1-score   support\n",
            "\n",
            "           0       0.84      0.99      0.91      2874\n",
            "           1       0.18      0.01      0.02       552\n",
            "\n",
            "    accuracy                           0.83      3426\n",
            "   macro avg       0.51      0.50      0.47      3426\n",
            "weighted avg       0.73      0.83      0.77      3426\n",
            "\n",
            "The average precision score is: 0.16141364461561275.\n",
            "The balanced accuracy precision score is: 0.5009473994735409.\n",
            "The confusion matrix is: \n",
            "\n",
            "\n",
            "Metrics when topic is considered:\n",
            "              precision    recall  f1-score   support\n",
            "\n",
            "           0       0.85      0.28      0.42      2874\n",
            "           1       0.17      0.74      0.27       552\n",
            "\n",
            "    accuracy                           0.36      3426\n",
            "   macro avg       0.51      0.51      0.35      3426\n",
            "weighted avg       0.74      0.36      0.40      3426\n",
            "\n",
            "The average precision score is: 0.164798818151822.\n",
            "The balanced accuracy score is: 0.5132011890714351.\n",
            "The confusion matrix is: \n"
          ]
        },
        {
          "output_type": "display_data",
          "data": {
            "image/png": "[encoded data removed]",
            "text/plain": [
              "<Figure size 432x288 with 2 Axes>"
            ]
          },
          "metadata": {
            "needs_background": "light"
          }
        },
        {
          "output_type": "display_data",
          "data": {
            "image/png": "[encoded data removed]",
            "text/plain": [
              "<Figure size 432x288 with 2 Axes>"
            ]
          },
          "metadata": {
            "needs_background": "light"
          }
        }
      ]
    },
    {
      "cell_type": "code",
      "source": [
        "print('Metrics when topic is not considered:')\n",
        "PrecisionRecallDisplay.from_predictions(true_values, [cos_sim(arguments_emb[i], keypoints_emb[i]) for i in range(len(indexes))]);\n",
        "\n",
        "print('Metrics when topic is considered:')\n",
        "PrecisionRecallDisplay.from_predictions(true_values, [cos_sim(arguments_topic_emb[i], keypoints_topic_emb[i]) for i in range(len(indexes))]);"
      ],
      "metadata": {
        "id": "bT_zTa69n05W",
        "colab": {
          "base_uri": "https://localhost:8080/",
          "height": 578
        },
        "outputId": "a3643ee1-688a-4c51-e918-d2f7a20b1340"
      },
      "execution_count": null,
      "outputs": [
        {
          "output_type": "stream",
          "name": "stdout",
          "text": [
            "Metrics when topic is not considered:\n",
            "Metrics when topic is considered:\n"
          ]
        },
        {
          "output_type": "display_data",
          "data": {
            "image/png": "[encoded data removed]",
            "text/plain": [
              "<Figure size 432x288 with 1 Axes>"
            ]
          },
          "metadata": {
            "needs_background": "light"
          }
        },
        {
          "output_type": "display_data",
          "data": {
            "image/png": "[encoded data removed]",
            "text/plain": [
              "<Figure size 432x288 with 1 Axes>"
            ]
          },
          "metadata": {
            "needs_background": "light"
          }
        }
      ]
    },
    {
      "cell_type": "markdown",
      "source": [
        "#### 4.1.2 **BERT embeddings**\n",
        "BERT (Bidirectional Encoder Representations from Transformers) provides dense vector representations for natural language by using a deep, pre-trained neural network with the Transformer architecture.\n",
        "\n",
        "BERT is a contextualized embedding model that takes the entire sentence into account. The following implementation takes automatically into account padding and encoding.\n",
        "\n",
        "BERT provides three different kinds of output:\n",
        "* `pooled_output`: pooled output of the entire sequence with shape `[batch_size, hidden_size]`. Can be used as sentence representation;\n",
        "* `sequence_output`: representations of every token in the input sequence with shape `[batch_size, max_sequence_length, hidden_size]`;\n",
        "* `encoder_outputs`: a list of 12 tensors of shapes `[batch_size, sequence_length, hidden_size]` with the outputs of the $i$-th Transformer block.\n",
        "\n",
        "For sake of simplicity (and RAM occupancy) the pooled output is computed with a lighter implementation.\n"
      ],
      "metadata": {
        "id": "_iJy7Ws8pYMw"
      }
    },
    {
      "cell_type": "code",
      "source": [
        "# Faster implementation to work with pooled outputs.\n",
        "pretrained_bert_model = sentence_transformers.SentenceTransformer('all-mpnet-base-v2');"
      ],
      "metadata": {
        "id": "8wbJPINZrO6z"
      },
      "execution_count": null,
      "outputs": []
    },
    {
      "cell_type": "code",
      "source": [
        "indexes = [i for i in range(len(labels_test))]\n",
        "\n",
        "# Generations of pairs arg-kp of the test set.\n",
        "arg_id = [labels_test['arg_id'][k] for k in indexes]\n",
        "kp_id = [labels_test['key_point_id'][k] for k in indexes]\n",
        "\n",
        "# Arguments extraction.\n",
        "arguments = flatten([arguments_test.loc[arguments_test['arg_id'] == arg]['argument'].tolist() for arg in arg_id])\n",
        "encoded_arguments = pretrained_bert_model.encode(arguments)\n",
        "\n",
        "# Key-points extraction.\n",
        "keypoints = flatten([key_points_test.loc[key_points_test['key_point_id'] == kp]['key_point'].tolist() for kp in kp_id])\n",
        "encoded_keypoints = pretrained_bert_model.encode(keypoints)\n",
        "\n",
        "# Topics extraction.\n",
        "topics = flatten([arguments_test.loc[arguments_test['arg_id'] == arg]['topic'].tolist() for arg in arg_id])\n",
        "encoded_topics = pretrained_bert_model.encode(topics)"
      ],
      "metadata": {
        "id": "JrimRJtOqQxz"
      },
      "execution_count": null,
      "outputs": []
    },
    {
      "cell_type": "code",
      "source": [
        "arguments_topic = np.concatenate((encoded_arguments, encoded_topics), axis = -1)\n",
        "keypoints_topic = np.concatenate((encoded_keypoints, encoded_topics), axis = -1)"
      ],
      "metadata": {
        "id": "Dkx8q8i905N9"
      },
      "execution_count": null,
      "outputs": []
    },
    {
      "cell_type": "markdown",
      "source": [
        "##### 4.1.2.1 **Cosine similarity calculation and evaluation**\n",
        "Cosine similarity is evaluated wether if the topic is considered or not. The general performances are worsened if the topic is taken into account. The cause can be due to the redundacy of the such feature.\n"
      ],
      "metadata": {
        "id": "zaU2Yk3t3LJF"
      }
    },
    {
      "cell_type": "code",
      "source": [
        "def cos_sim(vec1: np.ndarray, vec2: np.ndarray) -> np.ndarray:\n",
        "  return np.dot(vec1, vec2)/(np.linalg.norm(vec1) * np.linalg.norm(vec2))\n",
        "\n",
        "# Cosine similarity is calculated and then rounded. \n",
        "predictions_bert_no_topic = np.rint([cos_sim(encoded_arguments[i], encoded_keypoints[i]) for i in range(len(indexes))])\n",
        "predictions_bert_with_topic = np.rint([cos_sim(arguments_topic[i], keypoints_topic[i]) for i in range(len(indexes))])\n",
        "\n",
        "true_values = labels_test['label'].to_numpy()"
      ],
      "metadata": {
        "id": "cSQBuZEk3UJ7"
      },
      "execution_count": null,
      "outputs": []
    },
    {
      "cell_type": "code",
      "source": [
        "from sklearn.metrics import classification_report, average_precision_score, PrecisionRecallDisplay, ConfusionMatrixDisplay\n",
        "\n",
        "print('Metrics when topic is not considered:')\n",
        "print(classification_report(true_values, predictions_bert_no_topic))\n",
        "print(f'The average precision score is: {average_precision_score(true_values, predictions_bert_no_topic)}.')\n",
        "print(f'The balanced accuracy precision score is: {balanced_accuracy_score(true_values, predictions_bert_no_topic)}.')\n",
        "\n",
        "print(f'The confusion matrix is: ')\n",
        "ConfusionMatrixDisplay.from_predictions(true_values, predictions_bert_no_topic);\n",
        "\n",
        "print('\\n')\n",
        "\n",
        "print('Metrics when topic is considered:')\n",
        "print(classification_report(true_values, predictions_bert_with_topic))\n",
        "print(f'The average precision score is: {average_precision_score(true_values, predictions_bert_with_topic)}.')\n",
        "print(f'The balanced accuracy score is: {balanced_accuracy_score(true_values, predictions_bert_with_topic)}.')\n",
        "\n",
        "print(f'The confusion matrix is: ')\n",
        "ConfusionMatrixDisplay.from_predictions(true_values, predictions_bert_with_topic);"
      ],
      "metadata": {
        "colab": {
          "base_uri": "https://localhost:8080/",
          "height": 1000
        },
        "outputId": "faa354f4-bb6a-46e3-8ca5-bd923c3b5f8a",
        "id": "U_xlJIbu3UJ9"
      },
      "execution_count": null,
      "outputs": [
        {
          "output_type": "stream",
          "name": "stdout",
          "text": [
            "Metrics when topic is not considered:\n",
            "              precision    recall  f1-score   support\n",
            "\n",
            "           0       0.92      0.51      0.65      2874\n",
            "           1       0.23      0.76      0.35       552\n",
            "\n",
            "    accuracy                           0.55      3426\n",
            "   macro avg       0.57      0.63      0.50      3426\n",
            "weighted avg       0.81      0.55      0.60      3426\n",
            "\n",
            "The average precision score is: 0.2125523032284284.\n",
            "The balanced accuracy precision score is: 0.6341241566064566.\n",
            "The confusion matrix is: \n",
            "\n",
            "\n",
            "Metrics when topic is considered:\n",
            "              precision    recall  f1-score   support\n",
            "\n",
            "           0       1.00      0.00      0.00      2874\n",
            "           1       0.16      1.00      0.28       552\n",
            "\n",
            "    accuracy                           0.16      3426\n",
            "   macro avg       0.58      0.50      0.14      3426\n",
            "weighted avg       0.86      0.16      0.05      3426\n",
            "\n",
            "The average precision score is: 0.16130917592051433.\n",
            "The balanced accuracy score is: 0.5006958942240779.\n",
            "The confusion matrix is: \n"
          ]
        },
        {
          "output_type": "display_data",
          "data": {
            "image/png": "[encoded data removed]",
            "text/plain": [
              "<Figure size 432x288 with 2 Axes>"
            ]
          },
          "metadata": {
            "needs_background": "light"
          }
        },
        {
          "output_type": "display_data",
          "data": {
            "image/png": "[encoded data removed]",
            "text/plain": [
              "<Figure size 432x288 with 2 Axes>"
            ]
          },
          "metadata": {
            "needs_background": "light"
          }
        }
      ]
    },
    {
      "cell_type": "code",
      "source": [
        "print('Metrics when topic is not considered:')\n",
        "PrecisionRecallDisplay.from_predictions(true_values, [cos_sim(encoded_arguments[i], encoded_keypoints[i]) for i in range(len(indexes))]);\n",
        "\n",
        "print('Metrics when topic is considered:')\n",
        "PrecisionRecallDisplay.from_predictions(true_values, [cos_sim(arguments_topic[i], keypoints_topic[i]) for i in range(len(indexes))]);"
      ],
      "metadata": {
        "id": "-sRsu3EOoCws",
        "colab": {
          "base_uri": "https://localhost:8080/",
          "height": 578
        },
        "outputId": "abb0fed8-953e-4ed7-ae19-8ca893b08d80"
      },
      "execution_count": null,
      "outputs": [
        {
          "output_type": "stream",
          "name": "stdout",
          "text": [
            "Metrics when topic is not considered:\n",
            "Metrics when topic is considered:\n"
          ]
        },
        {
          "output_type": "display_data",
          "data": {
            "image/png": "[encoded data removed]",
            "text/plain": [
              "<Figure size 432x288 with 1 Axes>"
            ]
          },
          "metadata": {
            "needs_background": "light"
          }
        },
        {
          "output_type": "display_data",
          "data": {
            "image/png": "[encoded data removed]",
            "text/plain": [
              "<Figure size 432x288 with 1 Axes>"
            ]
          },
          "metadata": {
            "needs_background": "light"
          }
        }
      ]
    },
    {
      "cell_type": "markdown",
      "source": [
        "### 4.2 **Tf-idf**\n",
        "In order to assess the role of lexical overlap in the matching task, we represent each argument and key point as tf-idf weighted word vectors and use their cosine similarity as the match score."
      ],
      "metadata": {
        "id": "3LwdSHQdVDwm"
      }
    },
    {
      "cell_type": "code",
      "source": [
        "from sklearn.feature_extraction.text import TfidfVectorizer\n",
        "vectorizer = TfidfVectorizer()\n",
        "\n",
        "indexes = [i for i in range(len(labels_test))]\n",
        "\n",
        "# Generations of pairs arg-kp of the test set.\n",
        "arg_id = [labels_test['arg_id'][k] for k in indexes]\n",
        "kp_id = [labels_test['key_point_id'][k] for k in indexes]\n",
        "\n",
        "# Arguments extraction.\n",
        "arguments = flatten([arguments_test.loc[arguments_test['arg_id'] == arg]['argument'].tolist() for arg in arg_id])\n",
        "\n",
        "# Key-points extraction.\n",
        "keypoints = flatten([key_points_test.loc[key_points_test['key_point_id'] == kp]['key_point'].tolist() for kp in kp_id])\n",
        "\n",
        "# Topics extraction.\n",
        "topics = flatten([arguments_test.loc[arguments_test['arg_id'] == arg]['topic'].tolist() for arg in arg_id])\n",
        "\n",
        "# Pairs of arguments and key-points extraction\n",
        "args_kps = [vectorizer.fit_transform([arguments[i], keypoints[i]]).toarray() for i in indexes]\n",
        "args_kps_topic = [vectorizer.fit_transform([arguments[i] + topics[i], keypoints[i] + topics[i]]).toarray() for i in indexes]"
      ],
      "metadata": {
        "id": "gbRR0_EIUOSX"
      },
      "execution_count": null,
      "outputs": []
    },
    {
      "cell_type": "markdown",
      "source": [
        "##### 4.2.2 **Cosine similarity calculation and evaluation**\n",
        "Cosine similarity is evaluated wether if the topic is considered or not. The general performances are worsened if the topic is taken into account. The cause can be due to the redundacy of the such feature.\n"
      ],
      "metadata": {
        "id": "yhK8ojqjWoS3"
      }
    },
    {
      "cell_type": "code",
      "source": [
        "predictions_tfidf = np.rint([cos_sim(args_kps[i][0], args_kps[i][1]) for i in indexes])\n",
        "predictions_tfidf_topic = np.rint([cos_sim(args_kps_topic[i][0], args_kps_topic[i][1]) for i in indexes])\n",
        "\n",
        "true_values = labels_test['label'].to_numpy()"
      ],
      "metadata": {
        "id": "dL4BMIbQUg-x"
      },
      "execution_count": null,
      "outputs": []
    },
    {
      "cell_type": "code",
      "source": [
        "PrecisionRecallDisplay.from_predictions(true_values, [cos_sim(args_kps[i][0], args_kps[i][1]) for i in indexes])\n",
        "PrecisionRecallDisplay.from_predictions(true_values, [cos_sim(args_kps_topic[i][0], args_kps_topic[i][1]) for i in indexes])"
      ],
      "metadata": {
        "id": "Zd_ni3nlvHFX",
        "colab": {
          "base_uri": "https://localhost:8080/",
          "height": 297
        },
        "outputId": "9fc4e782-4347-4ad8-f3c4-0188cec2d6d8"
      },
      "execution_count": null,
      "outputs": [
        {
          "output_type": "execute_result",
          "data": {
            "text/plain": [
              "<sklearn.metrics._plot.precision_recall_curve.PrecisionRecallDisplay at 0x7f1b97445590>"
            ]
          },
          "metadata": {},
          "execution_count": 27
        },
        {
          "output_type": "display_data",
          "data": {
            "image/png": "[encoded data removed]",
            "text/plain": [
              "<Figure size 432x288 with 1 Axes>"
            ]
          },
          "metadata": {
            "needs_background": "light"
          }
        }
      ]
    },
    {
      "cell_type": "code",
      "source": [
        "from sklearn.metrics import classification_report, average_precision_score, PrecisionRecallDisplay, ConfusionMatrixDisplay\n",
        "\n",
        "print('Metrics when topic is not considered:')\n",
        "print(classification_report(true_values, predictions_tfidf))\n",
        "print(f'The average precision score is: {average_precision_score(true_values, predictions_tfidf)}.')\n",
        "print(f'The accuracy precision score is: {balanced_accuracy_score(true_values, predictions_tfidf)}.')\n",
        "\n",
        "print(f'The confusion matrix is: ')\n",
        "ConfusionMatrixDisplay.from_predictions(true_values, predictions_tfidf);\n",
        "\n",
        "print('\\n')\n",
        "\n",
        "print('Metrics when topic is considered:')\n",
        "print(classification_report(true_values, predictions_tfidf_topic))\n",
        "print(f'The average precision score is: {average_precision_score(true_values, predictions_tfidf_topic)}.')\n",
        "print(f'The accuracy score is: {balanced_accuracy_score(true_values, predictions_tfidf_topic)}.')\n",
        "\n",
        "print(f'The confusion matrix is: ')\n",
        "ConfusionMatrixDisplay.from_predictions(true_values, predictions_tfidf_topic);"
      ],
      "metadata": {
        "colab": {
          "base_uri": "https://localhost:8080/",
          "height": 1000
        },
        "id": "3iya3dF4WzXJ",
        "outputId": "20438bca-3f6a-4f8d-9fb1-63fb65d6c56c"
      },
      "execution_count": null,
      "outputs": [
        {
          "output_type": "stream",
          "name": "stdout",
          "text": [
            "Metrics when topic is not considered:\n",
            "              precision    recall  f1-score   support\n",
            "\n",
            "           0       0.84      1.00      0.91      2874\n",
            "           1       1.00      0.00      0.01       552\n",
            "\n",
            "    accuracy                           0.84      3426\n",
            "   macro avg       0.92      0.50      0.46      3426\n",
            "weighted avg       0.87      0.84      0.77      3426\n",
            "\n",
            "The average precision score is: 0.16416025787456534.\n",
            "The accuracy precision score is: 0.5018115942028986.\n",
            "The confusion matrix is: \n",
            "\n",
            "\n",
            "Metrics when topic is considered:\n",
            "              precision    recall  f1-score   support\n",
            "\n",
            "           0       0.84      0.76      0.80      2874\n",
            "           1       0.17      0.26      0.20       552\n",
            "\n",
            "    accuracy                           0.68      3426\n",
            "   macro avg       0.51      0.51      0.50      3426\n",
            "weighted avg       0.73      0.68      0.70      3426\n",
            "\n",
            "The average precision score is: 0.163263762979095.\n",
            "The accuracy score is: 0.5075375934162355.\n",
            "The confusion matrix is: \n"
          ]
        },
        {
          "output_type": "display_data",
          "data": {
            "image/png": "[encoded data removed]",
            "text/plain": [
              "<Figure size 432x288 with 2 Axes>"
            ]
          },
          "metadata": {
            "needs_background": "light"
          }
        },
        {
          "output_type": "display_data",
          "data": {
            "image/png": "[encoded data removed]",
            "text/plain": [
              "<Figure size 432x288 with 2 Axes>"
            ]
          },
          "metadata": {
            "needs_background": "light"
          }
        }
      ]
    },
    {
      "cell_type": "markdown",
      "source": [
        "## 5.0 **Supervised approaches**"
      ],
      "metadata": {
        "id": "SieCEoPSUd8J"
      }
    },
    {
      "cell_type": "markdown",
      "source": [
        "### 5.1 **Metrics**"
      ],
      "metadata": {
        "id": "c_HJIvZO9986"
      }
    },
    {
      "cell_type": "code",
      "execution_count": null,
      "metadata": {
        "id": "r2m21Av_4Bjs"
      },
      "outputs": [],
      "source": [
        "from keras import backend as K\n",
        "\n",
        "def recall_m(y_true, y_pred):\n",
        "    true_positives = K.sum(K.round(K.clip(y_true * y_pred, 0, 1)))\n",
        "    possible_positives = K.sum(K.round(K.clip(y_true, 0, 1)))\n",
        "    recall = true_positives / (possible_positives + K.epsilon())\n",
        "    return recall\n",
        "\n",
        "def precision_m(y_true, y_pred):\n",
        "    true_positives = K.sum(K.round(K.clip(y_true * y_pred, 0, 1)))\n",
        "    predicted_positives = K.sum(K.round(K.clip(y_pred, 0, 1)))\n",
        "    precision = true_positives / (predicted_positives + K.epsilon())\n",
        "    return precision\n",
        "\n",
        "def f1_m(y_true, y_pred):\n",
        "    precision = precision_m(y_true, y_pred)\n",
        "    recall = recall_m(y_true, y_pred)\n",
        "    return 2 * ((precision * recall) / (precision + recall + K.epsilon()))"
      ]
    },
    {
      "cell_type": "markdown",
      "metadata": {
        "id": "3W41M7vbfG2c"
      },
      "source": [
        "### 5.2 **Neural architecture #1**\n",
        "The experimented neural architecture is composed by:\n",
        "* *Stance encoder*: encode the stance value (1 or -1) employing a fully-connected network with no activation function to map the scalar input to a $N$-dimensional vector space;\n",
        "* *BERT*: extract the contextualized representation for textual inputs;\n",
        "* A context integration layer is done by stacking stance encoding, topic encoding and statements encoding;\n",
        "* *Statement encoder*: another fully-connected network on top of the context integration layer to get the final $D$-dimensional embeddings for key points or arguments.\n",
        "\n",
        "<div>\n",
        "<center>\n",
        "<img src = \"https://i.ibb.co/BPGXRyJ/architecture.jpg\" width = \"800\"/>\n",
        "<center>\n",
        "</div>\n",
        "\n",
        "The extraction of contextualized vector representation is already embedded in the generator."
      ]
    },
    {
      "cell_type": "code",
      "execution_count": null,
      "metadata": {
        "id": "UYQRPK4M-GT2"
      },
      "outputs": [],
      "source": [
        "# Load the pre-trained BERT model.\n",
        "bert_preprocess_model = hub.KerasLayer(\"https://tfhub.dev/tensorflow/bert_en_uncased_preprocess/3\")\n",
        "bert_model = hub.KerasLayer(\"https://tfhub.dev/tensorflow/bert_en_uncased_L-24_H-1024_A-16/4\", trainable = False)\n",
        "\n",
        "# Hidden states of BERT.\n",
        "layers = 1024"
      ]
    },
    {
      "cell_type": "code",
      "execution_count": null,
      "metadata": {
        "id": "TIvTHWF4Y4E8"
      },
      "outputs": [],
      "source": [
        "from tensorflow.keras.layers import Dense, TimeDistributed, Input, concatenate, add, average, Dropout, dot, Lambda, LSTM, Bidirectional\n",
        "from tensorflow.keras.models import Model\n",
        "from tensorflow.keras.callbacks import EarlyStopping, ModelCheckpoint\n",
        "from tensorflow.keras.initializers import Constant, glorot_normal\n",
        "from tensorflow.keras.optimizers import RMSprop, Adamax, SGD, Adam\n",
        "from tensorflow.keras.optimizers.schedules import ExponentialDecay, CosineDecayRestarts\n",
        "from tensorflow.keras import regularizers\n",
        "from tensorflow.keras.metrics import Precision, Recall\n",
        "from tensorflow.keras.losses import BinaryCrossentropy, CosineSimilarity\n",
        "\n",
        "\n",
        "# Note: the learning rate is not parametrized since we use a scheduler.\n",
        "def classifier(no_last_state: int, \n",
        "               dropout: float = 0.5, recurrent_dropout: float = 0.25, \n",
        "               initial_learning_rate: float = 0.0001, N_stance: int = 16) -> Model:\n",
        "\n",
        "  hidden_states = 32\n",
        "\n",
        "  ''' Network structure '''\n",
        "  # Inputs.\n",
        "  topic_input = Input(shape = (no_last_state * layers), \n",
        "                      #batch_size = batch_size, \n",
        "                      name = 'topic_input')\n",
        "  \n",
        "  argument_input = Input(shape = (no_last_state * layers), \n",
        "                         #batch_size = batch_size, \n",
        "                         name = 'argument_input')\n",
        "  \n",
        "  keypoint_input = Input(shape = (no_last_state * layers), \n",
        "                         #batch_size = batch_size, \n",
        "                         name = 'keypoint_input')\n",
        "\n",
        "  stance_input = Input(shape = (1, ), \n",
        "                       #batch_size = batch_size, \n",
        "                       name = 'stance_input')\n",
        "\n",
        "  # Stance encoder.\n",
        "  encoded_stance = Dense(units = N_stance, activation = None, name = 'fcn')(stance_input)\n",
        "  \n",
        "  # Context integration layer.\n",
        "  argument_integration = concatenate([encoded_stance, topic_input, argument_input])\n",
        "  keypoint_integration = concatenate([encoded_stance, topic_input, keypoint_input])\n",
        "\n",
        "  # Statement encoder.\n",
        "  mlp0 = Dense(units = (hidden_states / 2), activation = 'selu', \n",
        "              kernel_regularizer = regularizers.l1_l2(l1 = 1e-5, l2 = 1e-4),\n",
        "              bias_regularizer = regularizers.l2(1e-4),\n",
        "              activity_regularizer = regularizers.l2(1e-5),\n",
        "              name = 'st_enc_0')\n",
        "  \n",
        "  mlp1 = Dropout(rate = dropout, name = 'st_enc_drp')\n",
        "\n",
        "  mlp2 = Dense(units = hidden_states, activation = 'selu', \n",
        "              kernel_regularizer = regularizers.l1_l2(l1 = 1e-5, l2 = 1e-4),\n",
        "              bias_regularizer = regularizers.l2(1e-4),\n",
        "              activity_regularizer = regularizers.l2(1e-5),               \n",
        "              name = 'st_enc_2')\n",
        "\n",
        "  mlp0_argument = mlp0(argument_integration)\n",
        "  mlp1_argument = mlp1(mlp0_argument)\n",
        "  argument_output = mlp2(mlp1_argument)\n",
        "\n",
        "  mlp0_keypoint = mlp0(keypoint_integration)\n",
        "  mlp1_keypoint = mlp1(mlp0_keypoint)\n",
        "  keypoint_output = mlp2(mlp1_keypoint)\n",
        "\n",
        "  # Cosine similarity.\n",
        "  cos_sim = dot(inputs = [argument_output, keypoint_output], axes = -1, normalize = True)\n",
        "  # Rescale in range [0,1].\n",
        "  output = Lambda(lambda x: (x + 1) / 2)(cos_sim)\n",
        "\n",
        "  end_to_end = Model(inputs = (topic_input, argument_input, keypoint_input, stance_input), outputs = output)\n",
        "\n",
        "  # Compile the model.\n",
        "  scheduler_exp = ExponentialDecay(initial_learning_rate,\n",
        "                                   decay_steps = 100000,\n",
        "                                   decay_rate = 0.96,\n",
        "                                   staircase = True)\n",
        "  \n",
        "  scheduler_cos = CosineDecayRestarts(initial_learning_rate,\n",
        "                                      first_decay_steps = 1000)\n",
        "\n",
        "  end_to_end.compile(loss = focal_loss.BinaryFocalLoss(gamma = 2),\n",
        "                     optimizer = Adamax(learning_rate = scheduler_cos),\n",
        "                     metrics = ['binary_accuracy', precision_m, recall_m, f1_m]) \n",
        "  \n",
        "  # Check if the structure is correct.\n",
        "  end_to_end.summary()\n",
        "\n",
        "  return end_to_end"
      ]
    },
    {
      "cell_type": "code",
      "execution_count": null,
      "metadata": {
        "colab": {
          "base_uri": "https://localhost:8080/"
        },
        "id": "0PI8tc-49BEF",
        "outputId": "3dd34a4a-b389-4070-ab5f-86d1de30c15e"
      },
      "outputs": [
        {
          "output_type": "stream",
          "name": "stdout",
          "text": [
            "Model: \"model\"\n",
            "__________________________________________________________________________________________________\n",
            " Layer (type)                   Output Shape         Param #     Connected to                     \n",
            "==================================================================================================\n",
            " stance_input (InputLayer)      [(None, 1)]          0           []                               \n",
            "                                                                                                  \n",
            " fcn (Dense)                    (None, 16)           32          ['stance_input[0][0]']           \n",
            "                                                                                                  \n",
            " topic_input (InputLayer)       [(None, 4096)]       0           []                               \n",
            "                                                                                                  \n",
            " argument_input (InputLayer)    [(None, 4096)]       0           []                               \n",
            "                                                                                                  \n",
            " keypoint_input (InputLayer)    [(None, 4096)]       0           []                               \n",
            "                                                                                                  \n",
            " concatenate (Concatenate)      (None, 8208)         0           ['fcn[0][0]',                    \n",
            "                                                                  'topic_input[0][0]',            \n",
            "                                                                  'argument_input[0][0]']         \n",
            "                                                                                                  \n",
            " concatenate_1 (Concatenate)    (None, 8208)         0           ['fcn[0][0]',                    \n",
            "                                                                  'topic_input[0][0]',            \n",
            "                                                                  'keypoint_input[0][0]']         \n",
            "                                                                                                  \n",
            " st_enc_0 (Dense)               (None, 16)           131344      ['concatenate[0][0]',            \n",
            "                                                                  'concatenate_1[0][0]']          \n",
            "                                                                                                  \n",
            " st_enc_drp (Dropout)           (None, 16)           0           ['st_enc_0[0][0]',               \n",
            "                                                                  'st_enc_0[1][0]']               \n",
            "                                                                                                  \n",
            " st_enc_2 (Dense)               (None, 32)           544         ['st_enc_drp[0][0]',             \n",
            "                                                                  'st_enc_drp[1][0]']             \n",
            "                                                                                                  \n",
            " dot (Dot)                      (None, 1)            0           ['st_enc_2[0][0]',               \n",
            "                                                                  'st_enc_2[1][0]']               \n",
            "                                                                                                  \n",
            " lambda (Lambda)                (None, 1)            0           ['dot[0][0]']                    \n",
            "                                                                                                  \n",
            "==================================================================================================\n",
            "Total params: 131,920\n",
            "Trainable params: 131,920\n",
            "Non-trainable params: 0\n",
            "__________________________________________________________________________________________________\n"
          ]
        }
      ],
      "source": [
        "# Number of last states to concatenate out.\n",
        "l = 4\n",
        "\n",
        "matcher = classifier(no_last_state = l, initial_learning_rate = 0.00005)"
      ]
    },
    {
      "cell_type": "code",
      "execution_count": null,
      "metadata": {
        "colab": {
          "base_uri": "https://localhost:8080/",
          "height": 340
        },
        "id": "nTBKAxYD9F80",
        "outputId": "e3a01696-7c36-4189-861e-e7e4b427e126"
      },
      "outputs": [
        {
          "output_type": "execute_result",
          "data": {
            "image/png": "[encoded data removed]",
            "text/plain": [
              "<IPython.core.display.Image object>"
            ]
          },
          "metadata": {},
          "execution_count": 15
        }
      ],
      "source": [
        "from tensorflow.keras.utils import plot_model\n",
        "plot_model(matcher, show_shapes = True)"
      ]
    },
    {
      "cell_type": "markdown",
      "metadata": {
        "id": "fXgUI_zQH8Dg"
      },
      "source": [
        "#### 5.2.1 **Data generator with vector representation**\n",
        "To avoid high memory usage a data generator is implemented.\n",
        "\n",
        "The generator is initialized with:\n",
        "* A *shuffle* parameter to add more robustness to the batches of data;\n",
        "* A *batch_size* parameter to decide the size of the aforementioned batches;\n",
        "* The dataset parameters;\n",
        "* The *embedder* parameter to pass the chosen transformer;\n",
        "* A *no_last_state* parameter to decide how many states of the transformer's output concatenate to obtain the representation.\n",
        "\n",
        "The data is handled in order to parse and align the pairs in the labels dataframes. Then, topics, arguments and keypoints are encoded through BERT, and averaged over the last $l$ states.\n",
        "\n",
        "Zero-Shot learning is a type of machine learning technique, where the model is used without fine-tuning on a particular task.\n",
        "\n",
        "A single datapoint is output in the form of: `([topic, argument, keypoint, stance], label)`."
      ]
    },
    {
      "cell_type": "code",
      "execution_count": null,
      "metadata": {
        "id": "4cPWSRvShDuG"
      },
      "outputs": [],
      "source": [
        "from tensorflow.keras.utils import Sequence\n",
        "\n",
        "def flatten(t: list) -> list:\n",
        "  # Flatten a nested list.\n",
        "  return [item for sublist in t for item in sublist]\n",
        "\n",
        "class DataGenerator(Sequence):\n",
        "  def __init__(self, shuffle: bool, batch_size: int, \n",
        "               arguments_df: pd.DataFrame, key_points_df: pd.DataFrame, labels_df: pd.DataFrame, \n",
        "               preprocessor, pretrained_model, no_last_state: int):\n",
        "    \n",
        "    self.shuffle = shuffle\n",
        "    self.batch_size = batch_size\n",
        "    self.no_last_state = no_last_state\n",
        "    self.preprocessor = preprocessor\n",
        "    self.pretrained_model = pretrained_model\n",
        "\n",
        "    self.arguments_df = arguments_df.copy()\n",
        "    self.key_points_df = key_points_df.copy()\n",
        "    self.labels_df = labels_df.copy()      \n",
        "    \n",
        "    # Labels.\n",
        "    self.labels = labels_df['label'].values\n",
        "\n",
        "    # Stance.\n",
        "    self.stance = arguments_df['stance'].tolist()\n",
        "\n",
        "    self.length = len(labels_df)\n",
        "    self.indexes = np.arange(self.length)\n",
        "    self.on_epoch_end()\n",
        "\n",
        "    self.n = 0\n",
        "\n",
        "  def on_epoch_end(self):\n",
        "    # Shuffle the indexes to have more robust batches.\n",
        "    if self.shuffle:\n",
        "      np.random.shuffle(self.indexes)\n",
        "\n",
        "  def __len__(self):\n",
        "    # Length of the batch.\n",
        "    return int(np.ceil(self.length / self.batch_size))\n",
        "\n",
        "  def __getitem__(self, idx):\n",
        "    '''Generate one batch of data.'''\n",
        "    # Select the indexes of the batch.\n",
        "    indexes = self.indexes[idx * self.batch_size : (idx + 1) * self.batch_size]\n",
        "\n",
        "    # For each row in the labels dataframe we have the pair argument and keypoint. These two lines retrieve the pairs in the batch\n",
        "    arg_id = [self.labels_df['arg_id'][k] for k in indexes]\n",
        "    kp_id = [self.labels_df['key_point_id'][k] for k in indexes]\n",
        "\n",
        "    ''' Warning: it produces nested list! '''\n",
        "\n",
        "    # Take the topic from the arguments dataframe that match the given argument, already paired before.\n",
        "    topics = flatten([self.arguments_df.loc[self.arguments_df['arg_id'] == arg]['topic'].tolist() for arg in arg_id])\n",
        "    # Preprocces add [CLS] as 0 and [SEP] as 2 and pads with 1s.\n",
        "    preprocessed_topic = self.preprocessor(topics)\n",
        "    # Encode the topics and picks the last four states of the [CLS].\n",
        "    encoded_topic = np.array(self.pretrained_model(preprocessed_topic)['encoder_outputs'][-self.no_last_state:])[:,:,0,:]\n",
        "    # Swap axes to have the batch size at the beginning.\n",
        "    encoded_topic = np.swapaxes(encoded_topic, 0, 1)\n",
        "    encoded_topic = np.reshape(encoded_topic, (-1, self.no_last_state * layers))\n",
        "\n",
        "    # Take the arguments from the arguments dataframe that match the given argument, already paired before.\n",
        "    arguments = flatten([self.arguments_df.loc[self.arguments_df['arg_id'] == arg]['argument'].tolist() for arg in arg_id])\n",
        "    # Preprocces add [CLS] as 0 and [SEP] as 2 and pads with 1s.\n",
        "    preprocessed_argument = self.preprocessor(arguments)\n",
        "    # Encode the arguments and picks the last four states of the [CLS].\n",
        "    encoded_argument = np.array(self.pretrained_model(preprocessed_argument)['encoder_outputs'][-self.no_last_state:])[:,:,0,:]\n",
        "    # Swap axes to have the batch size at the beginning.\n",
        "    encoded_argument = np.swapaxes(encoded_argument, 0, 1)\n",
        "    encoded_argument = np.reshape(encoded_argument, (-1, self.no_last_state * layers))\n",
        "    \n",
        "    # Take the keypoint from the keypoints dataframe that match the given argument, already paired before.\n",
        "    keypoints = flatten([self.key_points_df.loc[self.key_points_df['key_point_id'] == kp]['key_point'].tolist() for kp in kp_id])\n",
        "    # Preprocces add [CLS] as 0 and [SEP] as 2 and pads with 1s.\n",
        "    preprocessed_keypoint = self.preprocessor(keypoints)\n",
        "    # Encode the keypoints and picks the last four states of the [CLS].\n",
        "    encoded_keypoint = np.array(self.pretrained_model(preprocessed_keypoint)['encoder_outputs'][-self.no_last_state:])[:,:,0,:]\n",
        "    # Swap axes to have the batch size at the beginning.\n",
        "    encoded_keypoint = np.swapaxes(encoded_keypoint, 0, 1)\n",
        "    encoded_keypoint = np.reshape(encoded_keypoint, (-1, self.no_last_state * layers))\n",
        "\n",
        "    # Take the stance from the arguments dataframe that match the given argument, already paired before.\n",
        "    stance = np.array([self.arguments_df.loc[self.arguments_df['arg_id'] == arg]['stance'].tolist() for arg in arg_id])\n",
        "\n",
        "    labels = np.array([self.labels[k] for k in indexes])\n",
        "\n",
        "    features = [encoded_topic, \n",
        "                encoded_argument, \n",
        "                encoded_keypoint, \n",
        "                stance]\n",
        "\n",
        "    return features, labels\n",
        "    \n",
        "  def __next__(self):\n",
        "    if self.n >= self.__len__():\n",
        "        self.n = 0\n",
        "    \n",
        "    result = self.__getitem__(self.n)\n",
        "    self.n += 1\n",
        "\n",
        "    return result\n",
        "  "
      ]
    },
    {
      "cell_type": "code",
      "execution_count": null,
      "metadata": {
        "id": "VHgyaB52rQLs"
      },
      "outputs": [],
      "source": [
        "# Batch size.\n",
        "batch_size = 32\n",
        "\n",
        "# Instantiate generators.\n",
        "train_gen = DataGenerator(shuffle = True, batch_size = batch_size,\n",
        "                          arguments_df = arguments_train, key_points_df = key_points_train, labels_df = labels_train, \n",
        "                          preprocessor = bert_preprocess_model, pretrained_model = bert_model, no_last_state = l)\n",
        "\n",
        "dev_gen = DataGenerator(shuffle = True, batch_size = batch_size,\n",
        "                        arguments_df = arguments_dev, key_points_df = key_points_dev, labels_df = labels_dev, \n",
        "                        preprocessor = bert_preprocess_model, pretrained_model = bert_model, no_last_state = l)\n",
        "\n",
        "# No need to shuffle test data.\n",
        "test_gen = DataGenerator(shuffle = False, batch_size = batch_size,\n",
        "                         arguments_df = arguments_test, key_points_df = key_points_test, labels_df = labels_test, \n",
        "                         preprocessor = bert_preprocess_model, pretrained_model = bert_model, no_last_state = l)"
      ]
    },
    {
      "cell_type": "markdown",
      "source": [
        "#### 5.2.2 **Training**"
      ],
      "metadata": {
        "id": "CaTisB1C-IQo"
      }
    },
    {
      "cell_type": "code",
      "execution_count": null,
      "metadata": {
        "id": "rkEUK8lZ-v82"
      },
      "outputs": [],
      "source": [
        "checkpoint = [EarlyStopping(monitor = 'val_loss', patience = 10, verbose = 1, mode = 'auto'),\n",
        "              ModelCheckpoint(filepath = \"/content/drive/MyDrive/[NLP]/project/models/adamax_cd_hu64_bs128.h5\",\n",
        "                              monitor = 'val_loss', verbose = 1, save_best_only = True)]"
      ]
    },
    {
      "cell_type": "code",
      "execution_count": null,
      "metadata": {
        "id": "qIJVDcWRA8pJ"
      },
      "outputs": [],
      "source": [
        "# Train the model.\n",
        "matcher.fit(x = train_gen,\n",
        "            validation_data = dev_gen,\n",
        "            epochs = 100, callbacks = checkpoint)  "
      ]
    },
    {
      "cell_type": "code",
      "execution_count": null,
      "metadata": {
        "id": "f67V2J67Kv8t"
      },
      "outputs": [],
      "source": [
        "# Manual saving in case Colab crashes.\n",
        "\"\"\" \n",
        "from tensorflow.keras.models import save_model\n",
        "save_model(reloaded_model, '/content/drive/MyDrive/[NLP]/project/models/adamax_cd_hu64_bs128.h5')\n",
        "\"\"\""
      ]
    },
    {
      "cell_type": "code",
      "execution_count": null,
      "metadata": {
        "id": "DtgTzVwrSnTk"
      },
      "outputs": [],
      "source": [
        "# Reload the model and restart the training.\n",
        "from tensorflow.keras.models import load_model\n",
        "\n",
        "reloaded_model = load_model(filepath = '/content/drive/MyDrive/[NLP]/project/models/adamax_cd_hu64_bs128.h5',\n",
        "                            custom_objects = {'precision_m': precision_m, 'recall_m': recall_m, 'f1_m': f1_m})\n",
        "\n",
        "# To change optimizers in further training.\n",
        "\"\"\"\n",
        "scheduler_cos = CosineDecayRestarts(initial_learning_rate = 0.000001, first_decay_steps = 1000)\n",
        "  \n",
        "reloaded_model.compile(loss = focal_loss.BinaryFocalLoss(gamma = 2),\n",
        "                       optimizer = Adamax(learning_rate = scheduler_cos),\n",
        "                       metrics = ['binary_accuracy', precision_m, recall_m, f1_m]) \n",
        "\"\"\"\n",
        "\n",
        "reloaded_model.summary()\n",
        "\n",
        "reloaded_model.fit(x = train_gen,\n",
        "                   validation_data = dev_gen,\n",
        "                   epochs = 100, callbacks = checkpoint)"
      ]
    },
    {
      "cell_type": "markdown",
      "source": [
        "#### 5.2.3 **Classifier evaluation**"
      ],
      "metadata": {
        "id": "xOy9zQVuWhFh"
      }
    },
    {
      "cell_type": "code",
      "execution_count": null,
      "metadata": {
        "colab": {
          "base_uri": "https://localhost:8080/"
        },
        "id": "64jNFl101W1r",
        "outputId": "d630f5ed-67e3-4900-951b-c0b91f368d6e"
      },
      "outputs": [
        {
          "output_type": "stream",
          "name": "stdout",
          "text": [
            "Model: \"model\"\n",
            "__________________________________________________________________________________________________\n",
            " Layer (type)                   Output Shape         Param #     Connected to                     \n",
            "==================================================================================================\n",
            " stance_input (InputLayer)      [(None, 1)]          0           []                               \n",
            "                                                                                                  \n",
            " fcn (Dense)                    (None, 16)           32          ['stance_input[0][0]']           \n",
            "                                                                                                  \n",
            " topic_input (InputLayer)       [(None, 4096)]       0           []                               \n",
            "                                                                                                  \n",
            " argument_input (InputLayer)    [(None, 4096)]       0           []                               \n",
            "                                                                                                  \n",
            " keypoint_input (InputLayer)    [(None, 4096)]       0           []                               \n",
            "                                                                                                  \n",
            " concatenate (Concatenate)      (None, 8208)         0           ['fcn[0][0]',                    \n",
            "                                                                  'topic_input[0][0]',            \n",
            "                                                                  'argument_input[0][0]']         \n",
            "                                                                                                  \n",
            " concatenate_1 (Concatenate)    (None, 8208)         0           ['fcn[0][0]',                    \n",
            "                                                                  'topic_input[0][0]',            \n",
            "                                                                  'keypoint_input[0][0]']         \n",
            "                                                                                                  \n",
            " st_enc_0 (Dense)               (None, 16)           131344      ['concatenate[0][0]',            \n",
            "                                                                  'concatenate_1[0][0]']          \n",
            "                                                                                                  \n",
            " st_enc_drp (Dropout)           (None, 16)           0           ['st_enc_0[0][0]',               \n",
            "                                                                  'st_enc_0[1][0]']               \n",
            "                                                                                                  \n",
            " st_enc_2 (Dense)               (None, 32)           544         ['st_enc_drp[0][0]',             \n",
            "                                                                  'st_enc_drp[1][0]']             \n",
            "                                                                                                  \n",
            " dot (Dot)                      (None, 1)            0           ['st_enc_2[0][0]',               \n",
            "                                                                  'st_enc_2[1][0]']               \n",
            "                                                                                                  \n",
            " lambda (Lambda)                (None, 1)            0           ['dot[0][0]']                    \n",
            "                                                                                                  \n",
            "==================================================================================================\n",
            "Total params: 131,920\n",
            "Trainable params: 131,920\n",
            "Non-trainable params: 0\n",
            "__________________________________________________________________________________________________\n"
          ]
        }
      ],
      "source": [
        "from tensorflow.keras.models import load_model\n",
        "\n",
        "reloaded_model = load_model(filepath = '/content/drive/MyDrive/[NLP]/project/models/adamax_cd_hu64_bs128.h5',\n",
        "                            custom_objects = {'precision_m': precision_m, 'recall_m': recall_m, 'f1_m': f1_m})\n",
        " \n",
        "reloaded_model.summary()"
      ]
    },
    {
      "cell_type": "code",
      "source": [
        "# Sample weighting.\n",
        "total_samples = len(labels_test['label'].to_numpy())\n",
        "\n",
        "pos_samples = sum(labels_test['label'].to_numpy())\n",
        "neg_samples = total_samples - pos_samples\n",
        "\n",
        "pos_percentage = pos_samples/total_samples\n",
        "neg_percentage = neg_samples/total_samples\n",
        "\n",
        "weights = []\n",
        "\n",
        "for p in labels_test['label'].to_numpy():\n",
        "  if p == 1:\n",
        "    weights.append(pos_percentage)\n",
        "  else:\n",
        "    weights.append(neg_percentage)"
      ],
      "metadata": {
        "id": "bUehIDDFr-2Z"
      },
      "execution_count": null,
      "outputs": []
    },
    {
      "cell_type": "code",
      "source": [
        "from sklearn.metrics import accuracy_score, classification_report, f1_score, recall_score, precision_score, PrecisionRecallDisplay, roc_curve, balanced_accuracy_score, ConfusionMatrixDisplay\n",
        "\n",
        "def evaluate_classifier(model: tf.keras.Model, test_set_generator, true_labels):\n",
        "  predictions = model.predict(test_set_generator)\n",
        "\n",
        "  # Threshold tuning.\n",
        "  fpr, tpr, thresholds = roc_curve(true_labels, predictions)\n",
        "  thr = thresholds[np.argmin(np.abs(fpr + tpr - 1))]\n",
        "\n",
        "  predictions_thr = np.zeros(predictions.shape)\n",
        "  predictions_thr[predictions >= thr] = 1\n",
        "\n",
        "  print(classification_report(predictions_thr, \n",
        "                              true_labels, \n",
        "                              #sample_weight = weights\n",
        "                              ))\n",
        "    \n",
        "  print(f'The average precision score is: {average_precision_score(true_labels, predictions_thr)}.')\n",
        "  print(f'The balanced accuracy score is: {balanced_accuracy_score(true_labels, predictions_thr)}.')\n",
        "  print(f'The tuned threshold is: {thr}.')\n",
        "\n",
        "  print(f'The confusion matrix is: ')\n",
        "  ConfusionMatrixDisplay.from_predictions(true_values, predictions_thr)\n",
        "\n",
        "  PrecisionRecallDisplay.from_predictions(true_labels, predictions)\n",
        "  \n",
        "evaluate_classifier(reloaded_model, test_gen, labels_test['label'].to_numpy())"
      ],
      "metadata": {
        "id": "PmyselQdZS5x",
        "colab": {
          "base_uri": "https://localhost:8080/",
          "height": 761
        },
        "outputId": "374f0392-a953-4ca6-9c24-c9cb76b10192"
      },
      "execution_count": null,
      "outputs": [
        {
          "output_type": "stream",
          "name": "stdout",
          "text": [
            "              precision    recall  f1-score   support\n",
            "\n",
            "         0.0       0.66      0.91      0.76      2079\n",
            "         1.0       0.66      0.27      0.38      1347\n",
            "\n",
            "    accuracy                           0.66      3426\n",
            "   macro avg       0.66      0.59      0.57      3426\n",
            "weighted avg       0.66      0.66      0.61      3426\n",
            "\n",
            "The balanced accuracy score is: 0.6576143687029137.\n",
            "The tuned threshold is: 0.2977856397628784.\n",
            "The confusion matrix is: \n"
          ]
        },
        {
          "output_type": "display_data",
          "data": {
            "image/png": "[encoded data removed]",
            "text/plain": [
              "<Figure size 432x288 with 2 Axes>"
            ]
          },
          "metadata": {
            "needs_background": "light"
          }
        },
        {
          "output_type": "display_data",
          "data": {
            "image/png": "[encoded data removed]",
            "text/plain": [
              "<Figure size 432x288 with 1 Axes>"
            ]
          },
          "metadata": {
            "needs_background": "light"
          }
        }
      ]
    },
    {
      "cell_type": "markdown",
      "metadata": {
        "id": "nK-dTPyNcarV"
      },
      "source": [
        "### 5.3 **Neural architecture #2**\n",
        "The extraction of contextualized vector representation is already embedded in the generator.\n",
        "Such outputs are reshaped and encoded with a fully connected layer and then the cosine similarity of the encoded vectors is computed.\n",
        "\n",
        "<div>\n",
        "<center>\n",
        "<img src = \"https://i.ibb.co/3hpvmNw/acrch-Tiny.jpg\" width = \"800\"/>\n",
        "<center>\n",
        "</div>\n",
        "\n",
        "The extraction of contextualized vector representation is already embedded in the generator."
      ]
    },
    {
      "cell_type": "code",
      "source": [
        "# Load the pre-trained BERT model.\n",
        "bert_preprocess_model = hub.KerasLayer(\"https://tfhub.dev/tensorflow/bert_en_uncased_preprocess/3\")\n",
        "bert_model = hub.KerasLayer(\"https://tfhub.dev/tensorflow/bert_en_uncased_L-24_H-1024_A-16/4\", trainable = False)\n",
        "\n",
        "# Hidden states of BERT.\n",
        "layers = 1024"
      ],
      "metadata": {
        "id": "8Dg3F-lbgwBL"
      },
      "execution_count": null,
      "outputs": []
    },
    {
      "cell_type": "code",
      "execution_count": null,
      "metadata": {
        "id": "zBNEuRyfcie9"
      },
      "outputs": [],
      "source": [
        "from tensorflow.keras.layers import Dense, Reshape, Input, concatenate, add, average, Dropout, dot, Lambda, LSTM, Bidirectional, TimeDistributed\n",
        "from tensorflow.keras.models import Model\n",
        "from tensorflow.keras.callbacks import EarlyStopping, ModelCheckpoint\n",
        "from tensorflow.keras.initializers import Constant, glorot_normal\n",
        "from tensorflow.keras.optimizers import RMSprop, Adamax, SGD, Adam\n",
        "from tensorflow.keras.optimizers.schedules import ExponentialDecay, CosineDecayRestarts\n",
        "from tensorflow.keras import regularizers\n",
        "from tensorflow.keras.metrics import Precision, Recall\n",
        "from tensorflow.keras.losses import BinaryCrossentropy, CosineSimilarity\n",
        "\n",
        "# Note: the learning rate is not parametrized since we use a scheduler.\n",
        "def classifier(no_transformers: int,\n",
        "               dropout: float = 0.5, recurrent_dropout: float = 0.25, \n",
        "               initial_learning_rate: float = 0.0001) -> Model:\n",
        "\n",
        "  hidden_states = 32\n",
        "\n",
        "  # Inputs.\n",
        "  argument_input = Input(shape = (no_transformers, layers), \n",
        "                         name = 'argument_input')\n",
        "  \n",
        "  keypoint_input = Input(shape = (no_transformers, layers), \n",
        "                         name = 'keypoint_input')\n",
        "  \n",
        "  reshaper = Reshape((-1, ))\n",
        "\n",
        "  argument = reshaper(argument_input)\n",
        "  keypoint = reshaper(keypoint_input)\n",
        "\n",
        "  encoder = Dense(units = hidden_states, activation = 'gelu',\n",
        "                  kernel_regularizer = regularizers.l1_l2(l1 = 1e-5, l2 = 1e-4),\n",
        "                  bias_regularizer = regularizers.l2(1e-4),\n",
        "                  activity_regularizer = regularizers.l2(1e-5), \n",
        "                  name = 'encoder')\n",
        "  \n",
        "  dropout = Dropout(rate = dropout, name = 'dropout')\n",
        "\n",
        "  argument_enc = encoder(argument)\n",
        "  argument_enc = dropout(argument_enc)\n",
        "\n",
        "  keypoint_enc = encoder(keypoint)\n",
        "  keypoint_enc = dropout(keypoint_enc)\n",
        "\n",
        "  # Cosine similarity.\n",
        "  cos_sim = dot(inputs = [argument_enc, keypoint_enc], axes = -1, normalize = True)\n",
        "  # Rescale in range [0,1].\n",
        "  output = Lambda(lambda x: (x + 1) / 2)(cos_sim)\n",
        "\n",
        "  end_to_end = Model(inputs = (argument_input, keypoint_input), outputs = output)\n",
        "\n",
        "  # Compile the model.\n",
        "  scheduler_exp = ExponentialDecay(initial_learning_rate,\n",
        "                                   decay_steps = 100000,\n",
        "                                   decay_rate = 0.96,\n",
        "                                   staircase = True)\n",
        "  \n",
        "  scheduler_cos = CosineDecayRestarts(initial_learning_rate,\n",
        "                                      first_decay_steps = 1000)\n",
        "\n",
        "  end_to_end.compile(loss = focal_loss.BinaryFocalLoss(gamma = 2),\n",
        "                     optimizer = Adamax(learning_rate = scheduler_cos),\n",
        "                     metrics = ['binary_accuracy', precision_m, recall_m, f1_m]) \n",
        "  \n",
        "  # Check if the structure is correct.\n",
        "  end_to_end.summary()\n",
        "\n",
        "  return end_to_end"
      ]
    },
    {
      "cell_type": "code",
      "source": [
        "matcher_two = classifier(no_transformers = 24, initial_learning_rate = 0.00005)\n",
        "\n",
        "from tensorflow.keras.utils import plot_model\n",
        "plot_model(matcher_two, show_shapes = True)"
      ],
      "metadata": {
        "colab": {
          "base_uri": "https://localhost:8080/",
          "height": 1000
        },
        "id": "tGYSuf3Jk9qx",
        "outputId": "1e37f659-8e46-43d3-de3c-f5e7481f7896"
      },
      "execution_count": null,
      "outputs": [
        {
          "output_type": "stream",
          "name": "stdout",
          "text": [
            "Model: \"model_1\"\n",
            "__________________________________________________________________________________________________\n",
            " Layer (type)                   Output Shape         Param #     Connected to                     \n",
            "==================================================================================================\n",
            " argument_input (InputLayer)    [(None, 24, 1024)]   0           []                               \n",
            "                                                                                                  \n",
            " keypoint_input (InputLayer)    [(None, 24, 1024)]   0           []                               \n",
            "                                                                                                  \n",
            " reshape (Reshape)              (None, 24576)        0           ['argument_input[0][0]',         \n",
            "                                                                  'keypoint_input[0][0]']         \n",
            "                                                                                                  \n",
            " encoder (Dense)                (None, 32)           786464      ['reshape[0][0]',                \n",
            "                                                                  'reshape[1][0]']                \n",
            "                                                                                                  \n",
            " dropout (Dropout)              (None, 32)           0           ['encoder[0][0]',                \n",
            "                                                                  'encoder[1][0]']                \n",
            "                                                                                                  \n",
            " dot_1 (Dot)                    (None, 1)            0           ['dropout[0][0]',                \n",
            "                                                                  'dropout[1][0]']                \n",
            "                                                                                                  \n",
            " lambda_1 (Lambda)              (None, 1)            0           ['dot_1[0][0]']                  \n",
            "                                                                                                  \n",
            "==================================================================================================\n",
            "Total params: 786,464\n",
            "Trainable params: 786,464\n",
            "Non-trainable params: 0\n",
            "__________________________________________________________________________________________________\n"
          ]
        },
        {
          "output_type": "execute_result",
          "data": {
            "image/png": "[encoded data removed]",
            "text/plain": [
              "<IPython.core.display.Image object>"
            ]
          },
          "metadata": {},
          "execution_count": 25
        }
      ]
    },
    {
      "cell_type": "markdown",
      "metadata": {
        "id": "JfWoEPiUly8-"
      },
      "source": [
        "#### 5.3.1 **Data generator with vector representation**\n",
        "To avoid high memory usage a data generator is implemented.\n",
        "\n",
        "The generator is initialized with:\n",
        "* A *shuffle* parameter to add more robustness to the batches of data;\n",
        "* A *batch_size* parameter to decide the size of the aforementioned batches;\n",
        "* The dataset parameters;\n",
        "* The *embedder* parameter to pass the chosen transformer.\n",
        "\n",
        "The data is handled in order to parse and align the pairs in the labels dataframes. Then, topics, arguments and keypoints are encoded through BERT.\n",
        "\n",
        "Zero-Shot learning is a type of machine learning technique, where the model is used without fine-tuning on a particular task.\n",
        "\n",
        "A single datapoint is output in the form of: `([argument, keypoint], label)`."
      ]
    },
    {
      "cell_type": "code",
      "execution_count": null,
      "metadata": {
        "id": "uFHNW8t5iuSF"
      },
      "outputs": [],
      "source": [
        "from tensorflow.keras.utils import Sequence\n",
        "\n",
        "def flatten(t: list) -> list:\n",
        "  # Flatten a nested list.\n",
        "  return [item for sublist in t for item in sublist]\n",
        "\n",
        "class DataGeneratorReduced(Sequence):\n",
        "  def __init__(self, shuffle: bool, batch_size: int, \n",
        "               arguments_df: pd.DataFrame, key_points_df: pd.DataFrame, labels_df: pd.DataFrame, \n",
        "               preprocessor, pretrained_model):\n",
        "    \n",
        "    self.shuffle = shuffle\n",
        "    self.batch_size = batch_size\n",
        "    self.preprocessor = preprocessor\n",
        "    self.pretrained_model = pretrained_model\n",
        "\n",
        "    self.arguments_df = arguments_df.copy()\n",
        "    self.key_points_df = key_points_df.copy()\n",
        "    self.labels_df = labels_df.copy()      \n",
        "    \n",
        "    # Labels.\n",
        "    self.labels = labels_df['label'].values\n",
        "\n",
        "    # Stance.\n",
        "    self.stance = arguments_df['stance'].tolist()\n",
        "\n",
        "    self.length = len(labels_df)\n",
        "    self.indexes = np.arange(self.length)\n",
        "    self.on_epoch_end()\n",
        "\n",
        "    self.n = 0\n",
        "\n",
        "  def on_epoch_end(self):\n",
        "    # Shuffle the indexes to have more robust batches.\n",
        "    if self.shuffle:\n",
        "      np.random.shuffle(self.indexes)\n",
        "\n",
        "  def __len__(self):\n",
        "    # Length of the batch.\n",
        "    return int(np.ceil(self.length / self.batch_size))\n",
        "\n",
        "  def __getitem__(self, idx):\n",
        "    '''Generate one batch of data.'''\n",
        "    # Select the indexes of the batch.\n",
        "    indexes = self.indexes[idx * self.batch_size : (idx + 1) * self.batch_size]\n",
        "\n",
        "    # For each row in the labels dataframe we have the pair argument and keypoint. These two lines retrieve the pairs in the batch\n",
        "    arg_id = [self.labels_df['arg_id'][k] for k in indexes]\n",
        "    kp_id = [self.labels_df['key_point_id'][k] for k in indexes]\n",
        "\n",
        "    ''' Warning: it produces nested list! '''\n",
        "\n",
        "    # Take the arguments from the arguments dataframe that match the given argument, already paired before.\n",
        "    arguments = flatten([self.arguments_df.loc[self.arguments_df['arg_id'] == arg]['argument'].tolist() for arg in arg_id])\n",
        "    # Preprocces add [CLS] as 0 and [SEP] as 2 and pads with 1s.\n",
        "    preprocessed_argument = self.preprocessor(arguments)\n",
        "    # Encode the arguments and picks the last four states of the [CLS].\n",
        "    encoded_argument = np.array(self.pretrained_model(preprocessed_argument)['encoder_outputs'])[:,:,0,:]\n",
        "    # Swap axes to have the batch size at the beginning.\n",
        "    encoded_argument = np.swapaxes(encoded_argument, 0, 1)\n",
        "    \n",
        "    # Take the keypoint from the keypoints dataframe that match the given argument, already paired before.\n",
        "    keypoints = flatten([self.key_points_df.loc[self.key_points_df['key_point_id'] == kp]['key_point'].tolist() for kp in kp_id])\n",
        "    # Preprocces add [CLS] as 0 and [SEP] as 2 and pads with 1s.\n",
        "    preprocessed_keypoint = self.preprocessor(keypoints)\n",
        "    # Encode the keypoints and picks the last four states of the [CLS].\n",
        "    encoded_keypoint = np.array(self.pretrained_model(preprocessed_keypoint)['encoder_outputs'])[:,:,0,:]\n",
        "    # Swap axes to have the batch size at the beginning.\n",
        "    encoded_keypoint = np.swapaxes(encoded_keypoint, 0, 1)\n",
        "\n",
        "    labels = np.array([self.labels[k] for k in indexes])\n",
        "\n",
        "    features = [encoded_argument, encoded_keypoint]\n",
        "\n",
        "    return features, labels\n",
        "    \n",
        "  def __next__(self):\n",
        "    if self.n >= self.__len__():\n",
        "        self.n = 0\n",
        "    \n",
        "    result = self.__getitem__(self.n)\n",
        "    self.n += 1\n",
        "\n",
        "    return result\n",
        "  "
      ]
    },
    {
      "cell_type": "code",
      "source": [
        "# Batch size.\n",
        "batch_size = 64\n",
        "\n",
        "# Instantiate generators.\n",
        "train_gen = DataGeneratorReduced(shuffle = True, batch_size = batch_size,\n",
        "                                 arguments_df = arguments_train, key_points_df = key_points_train, labels_df = labels_train, \n",
        "                                 preprocessor = bert_preprocess_model, pretrained_model = bert_model)\n",
        "\n",
        "dev_gen = DataGeneratorReduced(shuffle = True, batch_size = batch_size,\n",
        "                               arguments_df = arguments_dev, key_points_df = key_points_dev, labels_df = labels_dev, \n",
        "                               preprocessor = bert_preprocess_model, pretrained_model = bert_model)\n",
        "\n",
        "# No need to shuffle test data.\n",
        "test_gen = DataGeneratorReduced(shuffle = False, batch_size = batch_size,\n",
        "                                arguments_df = arguments_test, key_points_df = key_points_test, labels_df = labels_test, \n",
        "                                preprocessor = bert_preprocess_model, pretrained_model = bert_model)"
      ],
      "metadata": {
        "id": "atCE_u6OhU-D"
      },
      "execution_count": null,
      "outputs": []
    },
    {
      "cell_type": "markdown",
      "source": [
        "#### 5.3.2 **Training**"
      ],
      "metadata": {
        "id": "34bz-GGzmJ19"
      }
    },
    {
      "cell_type": "code",
      "execution_count": null,
      "metadata": {
        "id": "OGdDQueFmNmv"
      },
      "outputs": [],
      "source": [
        "checkpoint = [EarlyStopping(monitor = 'val_loss', patience = 10, verbose = 1, mode = 'auto'),\n",
        "              ModelCheckpoint(filepath = \"/content/drive/MyDrive/[NLP]/project/models/adamax_cd_hu32_bs64_small.h5\",\n",
        "                              monitor = 'val_loss', verbose = 1, save_best_only = True)]"
      ]
    },
    {
      "cell_type": "code",
      "execution_count": null,
      "metadata": {
        "id": "039e1Gq7mS4P"
      },
      "outputs": [],
      "source": [
        "# Train the model.\n",
        "from tensorflow.keras.models import load_model\n",
        "\n",
        "reloaded_model_two = load_model(filepath = '/content/drive/MyDrive/[NLP]/project/models/adamax_cd_hu32_bs64_small.h5',\n",
        "                            custom_objects = {'precision_m': precision_m, 'recall_m': recall_m, 'f1_m': f1_m})\n",
        " \n",
        "reloaded_model_two.summary()\n",
        "\n",
        "reloaded_model_two.fit(x = train_gen,\n",
        "                       validation_data = dev_gen,\n",
        "                       epochs = 100, callbacks = checkpoint)  "
      ]
    },
    {
      "cell_type": "markdown",
      "source": [
        "#### 5.3.3 **Classifier evaluation**"
      ],
      "metadata": {
        "id": "ldvgf1y0nkkD"
      }
    },
    {
      "cell_type": "code",
      "execution_count": null,
      "metadata": {
        "colab": {
          "base_uri": "https://localhost:8080/"
        },
        "outputId": "84483f13-3ba6-4380-dcb2-68e55b194eda",
        "id": "Gt0WLoYHnpjk"
      },
      "outputs": [
        {
          "output_type": "stream",
          "name": "stdout",
          "text": [
            "Model: \"model_1\"\n",
            "__________________________________________________________________________________________________\n",
            " Layer (type)                   Output Shape         Param #     Connected to                     \n",
            "==================================================================================================\n",
            " argument_input (InputLayer)    [(None, 24, 1024)]   0           []                               \n",
            "                                                                                                  \n",
            " keypoint_input (InputLayer)    [(None, 24, 1024)]   0           []                               \n",
            "                                                                                                  \n",
            " reshape (Reshape)              (None, 24576)        0           ['argument_input[0][0]',         \n",
            "                                                                  'keypoint_input[0][0]']         \n",
            "                                                                                                  \n",
            " encoder (Dense)                (None, 32)           786464      ['reshape[0][0]',                \n",
            "                                                                  'reshape[1][0]']                \n",
            "                                                                                                  \n",
            " dropout (Dropout)              (None, 32)           0           ['encoder[0][0]',                \n",
            "                                                                  'encoder[1][0]']                \n",
            "                                                                                                  \n",
            " dot_1 (Dot)                    (None, 1)            0           ['dropout[0][0]',                \n",
            "                                                                  'dropout[1][0]']                \n",
            "                                                                                                  \n",
            " lambda_1 (Lambda)              (None, 1)            0           ['dot_1[0][0]']                  \n",
            "                                                                                                  \n",
            "==================================================================================================\n",
            "Total params: 786,464\n",
            "Trainable params: 786,464\n",
            "Non-trainable params: 0\n",
            "__________________________________________________________________________________________________\n"
          ]
        }
      ],
      "source": [
        "from tensorflow.keras.models import load_model\n",
        "\n",
        "reloaded_model_two = load_model(filepath = '/content/drive/MyDrive/[NLP]/project/models/adamax_cd_hu32_bs64_small.h5',\n",
        "                            custom_objects = {'precision_m': precision_m, 'recall_m': recall_m, 'f1_m': f1_m})\n",
        " \n",
        "reloaded_model_two.summary()"
      ]
    },
    {
      "cell_type": "code",
      "source": [
        "from sklearn.metrics import accuracy_score, classification_report, f1_score, recall_score, precision_score, PrecisionRecallDisplay, roc_curve, balanced_accuracy_score, ConfusionMatrixDisplay\n",
        "\n",
        "def evaluate_classifier(model: tf.keras.Model, test_set_generator, true_labels):\n",
        "  predictions = model.predict(test_set_generator)\n",
        "\n",
        "  # Threshold tuning.\n",
        "  fpr, tpr, thresholds = roc_curve(true_labels, predictions)\n",
        "  thr = thresholds[np.argmin(np.abs(fpr + tpr - 1))]\n",
        "\n",
        "  predictions_thr = np.zeros(predictions.shape)\n",
        "  predictions_thr[predictions >= thr] = 1\n",
        "\n",
        "  print(classification_report(predictions_thr, \n",
        "                              true_labels, \n",
        "                              #sample_weight = weights\n",
        "                              ))\n",
        "    \n",
        "  print(f'The average precision score is: {average_precision_score(true_labels, predictions_thr)}.')\n",
        "  print(f'The balanced accuracy score is: {balanced_accuracy_score(true_labels, predictions_thr)}.')\n",
        "  print(f'The tuned threshold is: {thr}.')\n",
        "\n",
        "\n",
        "  print(f'The confusion matrix is: ')\n",
        "  ConfusionMatrixDisplay.from_predictions(true_values, predictions_thr)\n",
        "\n",
        "  PrecisionRecallDisplay.from_predictions(true_labels, predictions)\n",
        "  \n",
        "evaluate_classifier(reloaded_model_two, test_gen, labels_test['label'].to_numpy())"
      ],
      "metadata": {
        "id": "JioDZrYD0oel",
        "colab": {
          "base_uri": "https://localhost:8080/",
          "height": 761
        },
        "outputId": "03c2d233-c370-4bc8-9036-97387844ea57"
      },
      "execution_count": null,
      "outputs": [
        {
          "output_type": "stream",
          "name": "stdout",
          "text": [
            "              precision    recall  f1-score   support\n",
            "\n",
            "         0.0       0.66      0.91      0.77      2093\n",
            "         1.0       0.66      0.27      0.39      1333\n",
            "\n",
            "    accuracy                           0.66      3426\n",
            "   macro avg       0.66      0.59      0.58      3426\n",
            "weighted avg       0.66      0.66      0.62      3426\n",
            "\n",
            "The balanced accuracy score is: 0.6632893104595927.\n",
            "The tuned threshold is: 0.3550012707710266.\n",
            "The confusion matrix is: \n"
          ]
        },
        {
          "output_type": "display_data",
          "data": {
            "image/png": "[encoded data removed]",
            "text/plain": [
              "<Figure size 432x288 with 2 Axes>"
            ]
          },
          "metadata": {
            "needs_background": "light"
          }
        },
        {
          "output_type": "display_data",
          "data": {
            "image/png": "[encoded data removed]",
            "text/plain": [
              "<Figure size 432x288 with 1 Axes>"
            ]
          },
          "metadata": {
            "needs_background": "light"
          }
        }
      ]
    },
    {
      "cell_type": "code",
      "source": [
        ""
      ],
      "metadata": {
        "id": "A8107Ph65V0U"
      },
      "execution_count": null,
      "outputs": []
    }
  ],
  "metadata": {
    "accelerator": "GPU",
    "colab": {
      "collapsed_sections": [],
      "machine_shape": "hm",
      "name": "key-point_matching_costante-costanzino-stramiglio-wen.ipynb",
      "provenance": []
    },
    "kernelspec": {
      "display_name": "Python 3",
      "name": "python3"
    },
    "language_info": {
      "name": "python"
    }
  },
  "nbformat": 4,
  "nbformat_minor": 0
}